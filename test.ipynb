{
 "cells": [
  {
   "cell_type": "code",
   "execution_count": 1,
   "metadata": {
    "collapsed": true
   },
   "outputs": [],
   "source": [
    "# HEADER FILES\n",
    "import numpy as np\n",
    "import pandas as pd\n",
    "import matplotlib\n",
    "import matplotlib.pyplot as plt\n",
    "import sklearn\n",
    "from sklearn.model_selection import train_test_split\n",
    "from sklearn.externals import joblib\n",
    "matplotlib.style.use('ggplot')\n",
    "%matplotlib inline \n",
    "# special matplotlib argument for improved plots\n",
    "from matplotlib import rcParams"
   ]
  },
  {
   "cell_type": "code",
   "execution_count": 2,
   "metadata": {
    "collapsed": false,
    "scrolled": true
   },
   "outputs": [
    {
     "name": "stdout",
     "output_type": "stream",
     "text": [
      "(1459, 31)\n"
     ]
    }
   ],
   "source": [
    "df = pd.read_csv('test.csv') # read test data\n",
    "df.set_index('Id', inplace=True) # sets the index corresponding to the \"Id\" column and removes that column\n",
    "print (df.shape) # prints the shape of dataframe"
   ]
  },
  {
   "cell_type": "code",
   "execution_count": 3,
   "metadata": {
    "collapsed": false
   },
   "outputs": [],
   "source": [
    "# HANDLING MISSING VALUES\n",
    "df[\"MSZoning\"].fillna(df[\"MSZoning\"].value_counts().index[0], inplace=True)\n",
    "df[\"BsmtFullBath\"].fillna(df[\"BsmtFullBath\"].median(), inplace=True)\n",
    "df[\"BsmtHalfBath\"].fillna(df[\"BsmtHalfBath\"].median(), inplace=True)\n",
    "df[\"GarageType\"].fillna(\"NA\", inplace=True)\n",
    "df[\"GarageYrBlt\"].fillna(df[\"GarageYrBlt\"].median(), inplace=True)\n",
    "df.loc[df[\"GarageType\"]=='NA', 'GarageFinish'] = 'NA'\n",
    "df[\"GarageFinish\"].fillna(df[\"GarageFinish\"].value_counts().index[0], inplace=True)\n",
    "df[\"GarageCars\"].fillna(df[\"GarageCars\"].value_counts().index[0], inplace=True)\n",
    "df[\"GarageArea\"].fillna(df[\"GarageArea\"].median(), inplace=True)\n",
    "df.loc[df[\"MasVnrArea\"].isnull(), 'MasVnrType'] = 'None'\n",
    "df[\"MasVnrArea\"].fillna(0, inplace=True)\n",
    "df[\"MasVnrType\"].fillna(df[\"MasVnrType\"].value_counts().index[0], inplace=True)"
   ]
  },
  {
   "cell_type": "code",
   "execution_count": 4,
   "metadata": {
    "collapsed": false
   },
   "outputs": [],
   "source": [
    "Y = pd.read_csv('gt.csv') # TARGET CLASS from gt.csv\n",
    "Y.set_index('Id', inplace=True)\n",
    "X = df.iloc[:, 0:len(df.columns)] # FEATURE DATAFRAME\n",
    "\n",
    "#print (pd.isnull(X).sum())\n",
    "\n",
    "for col in X.columns.values:\n",
    "    if X[col].dtype == 'int64':\n",
    "        X[col] = X[col].astype('float64')\n",
    "    if X[col].dtype == object:\n",
    "        X[col] = X[col].astype('category')\n",
    "\n",
    "X[\"MSSubClass\"] = X[\"MSSubClass\"].astype('category') # The MS subclasses are actually categories\n",
    "\n",
    "# Feature Scaling\n",
    "for col in X.columns.values:\n",
    "    if X[col].dtypes == 'float64':\n",
    "        X[col] = (X[col] - X[col].min())/(X[col].max() - X[col].min()) # Min-Max Scaling of floating variables\n",
    "        X[col] = (X[col] - X[col].mean())/X[col].std() # Standardized Scaling of floating variables\n",
    "        \n"
   ]
  },
  {
   "cell_type": "code",
   "execution_count": 5,
   "metadata": {
    "collapsed": false
   },
   "outputs": [
    {
     "name": "stdout",
     "output_type": "stream",
     "text": [
      "(1459, 122)\n"
     ]
    }
   ],
   "source": [
    "# ONE HOT ENCODING FOR CATEGORICAL FEATURES\n",
    "X = pd.get_dummies(X, columns = X.select_dtypes(include=['category']))\n",
    "\n",
    "# extra features occuring in one hot encoded TRAIN data file \n",
    "headers = ['Condition2_RRAe', 'Condition2_RRAn', 'Condition2_RRNn',\n",
    "       'HouseStyle_2.5Fin', 'SaleCondition_Abnorml', 'SaleCondition_AdjLand',\n",
    "       'SaleCondition_Alloca', 'SaleCondition_Family', 'SaleCondition_Normal',\n",
    "       'SaleCondition_Partial']\n",
    "for header in headers:\n",
    "    X[header] = 0\n",
    "print (X.shape)"
   ]
  },
  {
   "cell_type": "code",
   "execution_count": 6,
   "metadata": {
    "collapsed": true
   },
   "outputs": [
    {
     "name": "stderr",
     "output_type": "stream",
     "text": [
      "/Users/sumanvid97/anaconda3/envs/py3/lib/python3.6/site-packages/sklearn/cross_validation.py:41: DeprecationWarning: This module was deprecated in version 0.18 in favor of the model_selection module into which all the refactored classes and functions are moved. Also note that the interface of the new CV iterators are different from that of this module. This module will be removed in 0.20.\n",
      "  \"This module will be removed in 0.20.\", DeprecationWarning)\n"
     ]
    }
   ],
   "source": [
    "# IMPORTING MODELS\n",
    "logreg = joblib.load('logistic_regression.pkl')\n",
    "knn = joblib.load('k_nearest_neighbors.pkl')\n",
    "dtree = joblib.load('decision_tree.pkl')\n",
    "rf = joblib.load('random_forest.pkl')"
   ]
  },
  {
   "cell_type": "code",
   "execution_count": 7,
   "metadata": {
    "collapsed": false,
    "scrolled": false
   },
   "outputs": [],
   "source": [
    "Y_pred_logreg = logreg.predict(X)\n",
    "Y_pred_knn = knn.predict(X)\n",
    "Y_pred_dtree = dtree.predict(X) # MOST ACCURATE CLASSIFIER \n",
    "Y_pred_rf = rf.predict(X)"
   ]
  },
  {
   "cell_type": "code",
   "execution_count": 8,
   "metadata": {
    "collapsed": false
   },
   "outputs": [],
   "source": [
    "# Writing out.csv corresponding to the most accurate model\n",
    "outfile = open(\"out.csv\",\"w\")\n",
    "outfile.write(\"Id,SaleStatus\\n\")\n",
    "i = 1461\n",
    "for y in Y_pred_dtree:\n",
    "    outfile.write(str(i)+\",\"+y+\"\\n\")\n",
    "    i += 1\n",
    "outfile.close()"
   ]
  },
  {
   "cell_type": "code",
   "execution_count": 9,
   "metadata": {
    "collapsed": false
   },
   "outputs": [
    {
     "name": "stdout",
     "output_type": "stream",
     "text": [
      "Logistic Regression Accuracy:  0.498286497601\n",
      "K Nearest Neighbor Accuracy:  0.489376285127\n",
      "Decision Tree Accuracy:  0.509252912954\n",
      "Random Forest Accuracy:  0.488690884167\n"
     ]
    }
   ],
   "source": [
    "print ('Logistic Regression Accuracy: ', logreg.score(X, Y))\n",
    "print ('K Nearest Neighbor Accuracy: ', knn.score(X, Y))\n",
    "print ('Decision Tree Accuracy: ', dtree.score(X, Y))\n",
    "print ('Random Forest Accuracy: ', rf.score(X, Y))"
   ]
  }
 ],
 "metadata": {
  "kernelspec": {
   "display_name": "Python 3",
   "language": "python",
   "name": "python3"
  },
  "language_info": {
   "codemirror_mode": {
    "name": "ipython",
    "version": 3
   },
   "file_extension": ".py",
   "mimetype": "text/x-python",
   "name": "python",
   "nbconvert_exporter": "python",
   "pygments_lexer": "ipython3",
   "version": "3.6.0"
  }
 },
 "nbformat": 4,
 "nbformat_minor": 2
}
