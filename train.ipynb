{
 "cells": [
  {
   "cell_type": "markdown",
   "metadata": {},
   "source": [
    "# Report - Assignment 1\n",
    "\n",
    "### Videsh Suman (150040095)"
   ]
  },
  {
   "cell_type": "code",
   "execution_count": 1,
   "metadata": {
    "collapsed": false
   },
   "outputs": [
    {
     "name": "stderr",
     "output_type": "stream",
     "text": [
      "/Users/sumanvid97/anaconda3/envs/py3/lib/python3.6/site-packages/sklearn/cross_validation.py:41: DeprecationWarning: This module was deprecated in version 0.18 in favor of the model_selection module into which all the refactored classes and functions are moved. Also note that the interface of the new CV iterators are different from that of this module. This module will be removed in 0.20.\n",
      "  \"This module will be removed in 0.20.\", DeprecationWarning)\n"
     ]
    }
   ],
   "source": [
    "# HEADER FILES\n",
    "import numpy as np\n",
    "import pandas as pd\n",
    "import matplotlib\n",
    "import matplotlib.pyplot as plt\n",
    "import sklearn\n",
    "from sklearn.model_selection import train_test_split\n",
    "from sklearn.preprocessing import normalize\n",
    "from sklearn.linear_model import LogisticRegression\n",
    "from sklearn import cross_validation\n",
    "from sklearn.cross_validation import KFold\n",
    "from sklearn.model_selection import GridSearchCV\n",
    "from sklearn.svm import SVC\n",
    "from sklearn.tree import DecisionTreeClassifier\n",
    "from sklearn.ensemble import RandomForestClassifier\n",
    "from sklearn.neighbors import KNeighborsClassifier\n",
    "from sklearn.externals import joblib\n",
    "from sklearn.cross_validation import cross_val_score\n",
    "matplotlib.style.use('ggplot')\n",
    "%matplotlib inline \n",
    "# special matplotlib argument for improved plots"
   ]
  },
  {
   "cell_type": "markdown",
   "metadata": {},
   "source": [
    "###### Reading train.csv and finding out it's shape."
   ]
  },
  {
   "cell_type": "code",
   "execution_count": 2,
   "metadata": {
    "collapsed": false,
    "scrolled": true
   },
   "outputs": [
    {
     "name": "stdout",
     "output_type": "stream",
     "text": [
      "(1460, 32)\n"
     ]
    }
   ],
   "source": [
    "df = pd.read_csv('train.csv') # read train data\n",
    "\n",
    "# sets the index corresponding to the \"Id\" column\n",
    "df.set_index('Id', inplace=True) \n",
    "\n",
    "print (df.shape) # prints the shape of dataframe"
   ]
  },
  {
   "cell_type": "markdown",
   "metadata": {},
   "source": [
    "### Data Preprocessing:"
   ]
  },
  {
   "cell_type": "markdown",
   "metadata": {},
   "source": [
    "###### Imputing the missing values case by case.\n",
    "- Missing values in categorical features filled with most appropriate already existing categories like 'None' or 'NA'\n",
    "- Filling the missing numerical values with 0 or median, depending upon the feauture"
   ]
  },
  {
   "cell_type": "code",
   "execution_count": 3,
   "metadata": {
    "collapsed": false
   },
   "outputs": [],
   "source": [
    "# HANDLING MISSING VALUES\n",
    "\n",
    "df[\"GarageType\"].fillna(\"NA\", inplace=True)\n",
    "\n",
    "# Imputing median year values, so that the imputed values do not affect the variance much.\n",
    "df[\"GarageYrBlt\"].fillna(df[\"GarageYrBlt\"].median(), inplace=True)\n",
    "                         \n",
    "df[\"GarageFinish\"].fillna(\"NA\", inplace=True)\n",
    "df[\"MasVnrType\"].fillna(\"None\", inplace=True)\n",
    "                         \n",
    "# Imputing area=0 since the MasVnrType doesn't exist\n",
    "df[\"MasVnrArea\"].fillna(0, inplace=True)"
   ]
  },
  {
   "cell_type": "markdown",
   "metadata": {},
   "source": [
    "###### Separating out the feature variables from the dataframe, assigning them respective datatypes.\n",
    "- All the numerical features should be floating, so that they can be scaled later\n",
    "- Changing the datatype of categorical features from object to category to avoid inconvenience later"
   ]
  },
  {
   "cell_type": "code",
   "execution_count": 4,
   "metadata": {
    "collapsed": false
   },
   "outputs": [],
   "source": [
    "Y = df.iloc[:, len(df.columns)-1] # TARGET -> SaleStatus\n",
    "X = df.iloc[:, 0:len(df.columns)-1] # FEATURES -> MSSubClass to SaleCondition\n",
    "\n",
    "# print (pd.isnull(X).sum())\n",
    "\n",
    "# Type Conversion: int64 -> float64, object -> category\n",
    "for col in X.columns.values:\n",
    "    if X[col].dtype == 'int64':\n",
    "        X[col] = X[col].astype('float64')\n",
    "    if X[col].dtype == object:\n",
    "        X[col] = X[col].astype('category')\n",
    "        \n",
    "# The MS subclasses are actually categories\n",
    "X[\"MSSubClass\"] = X[\"MSSubClass\"].astype('category')\n",
    "\n",
    "# print (X.dtypes)"
   ]
  },
  {
   "cell_type": "markdown",
   "metadata": {},
   "source": [
    "###### Normalizing and standardizing the numerical features, as a part of feature scaling.\n",
    "- Min-max Scaling: entire column is fitted within the range of [0,1]\n",
    "- Standardization: mean = 0, std. deviation = 1"
   ]
  },
  {
   "cell_type": "code",
   "execution_count": 5,
   "metadata": {
    "collapsed": true
   },
   "outputs": [],
   "source": [
    "# FEATURE SCALING OF NUMERICAL DATA\n",
    "# Min-max scaling and Standardized scaling\n",
    "for col in X.columns.values:\n",
    "    if X[col].dtypes == 'float64':\n",
    "        X[col] = (X[col] - X[col].min())/(X[col].max() - X[col].min()) \n",
    "        X[col] = (X[col] - X[col].mean())/X[col].std() \n",
    "        \n",
    "# print (X)"
   ]
  },
  {
   "cell_type": "markdown",
   "metadata": {},
   "source": [
    "###### Implementing one hot encoding for categorical variables to binarize these categories of each feature.\n",
    "- This way the categories are rendered comepletely unordered as they actually are.\n",
    "- Learning becomes more accurate, though less convenient due to too many features."
   ]
  },
  {
   "cell_type": "code",
   "execution_count": 6,
   "metadata": {
    "collapsed": false,
    "scrolled": false
   },
   "outputs": [],
   "source": [
    "# ONE HOT ENCODING FOR CATEGORICAL FEATURES\n",
    "# creating dummies\n",
    "X = pd.get_dummies(X, columns = X.select_dtypes(include=['category'])) \n",
    "\n",
    "# extra feature occuring in one hot encoded TEST data file \n",
    "X['MSSubClass_150.0'] = 0 \n",
    "\n",
    "# print (X.columns.values) # Final Shape of X"
   ]
  },
  {
   "cell_type": "markdown",
   "metadata": {},
   "source": [
    "##### Note:\n",
    "Technically, train.csv and test.csv should be preprocessed together, after concatenating the two dataframes. However, due to the constraint of the assignment, train.csv has been read in train.py, while test.csv in test.py. So, both of these dataframes have been preprocessed independently due to which the number of features, after One Hot Encoding in each file, produced some difference. These extra features(as columns of zeros) have been added accordingly to both the feature dataframes after examining them closely. This constraint has also affected the normalization and standardization steps, not very significantly though."
   ]
  },
  {
   "cell_type": "markdown",
   "metadata": {},
   "source": [
    "##### Data Preprocessing Strategies\n",
    "- Imputation of missing values, otherwise they would have created a problem later \n",
    "- Feature scaling of numerical variables, required for \n",
    "- Tried plotting the correlation curves amongst the features, however they didn't give much information about the features\n",
    "- One hot encoding of the nominal features, instead of categorical encoding for each feature\n",
    "- Former gives no bias to any particular category, unlike the latter that gives rise to some kind of order among the categories within a feature\n",
    "- However, this gave sudden rise to the dimensionality of X, requiring a significant training time, but creating a more robust model eventually\n",
    "- Never tried any kind of feature selection, not wanting to compromise on the robustness\n",
    "- The tree algorithms(Decision Tree, Random Forest) in scikit learn have a default value for max_features of sqrt(total features), selection of which is based on their individual importance"
   ]
  },
  {
   "cell_type": "markdown",
   "metadata": {},
   "source": [
    "### Model Development:"
   ]
  },
  {
   "cell_type": "markdown",
   "metadata": {},
   "source": [
    "\n",
    "###### Training - 80%, Testing - 20%\n"
   ]
  },
  {
   "cell_type": "code",
   "execution_count": 7,
   "metadata": {
    "collapsed": false
   },
   "outputs": [],
   "source": [
    "# TRAIN-TEST SPLIT WITHIN THE TRAIN.CSV DATA\n",
    "\n",
    "X_train, X_test, Y_train, Y_test = train_test_split(X, Y, test_size=0.2, \n",
    "                                                    random_state = 1)"
   ]
  },
  {
   "cell_type": "markdown",
   "metadata": {},
   "source": [
    "###### The following code block has been picked up from the scikit learn documentation."
   ]
  },
  {
   "cell_type": "code",
   "execution_count": 8,
   "metadata": {
    "collapsed": true
   },
   "outputs": [],
   "source": [
    "# CONFUSION MATRIX PLOT FUNCTION\n",
    "import itertools\n",
    "from sklearn.metrics import confusion_matrix\n",
    "\n",
    "def plot_confusion_matrix(cm, classes,\n",
    "                          title='Confusion matrix',\n",
    "                          cmap=plt.cm.Blues):\n",
    "    \"\"\"\n",
    "    This function prints and plots the confusion matrix.\n",
    "    \"\"\"\n",
    "    print('Confusion Matrix')\n",
    "\n",
    "    print(cm)\n",
    "\n",
    "    plt.imshow(cm, interpolation='nearest', cmap=cmap)\n",
    "    plt.title(title)\n",
    "    plt.colorbar()\n",
    "    tick_marks = np.arange(len(classes))\n",
    "    plt.xticks(tick_marks, classes, rotation=0)\n",
    "    plt.yticks(tick_marks, classes)\n",
    "\n",
    "    fmt = 'd'\n",
    "    thresh = cm.max() /2.\n",
    "    for i, j in itertools.product(range(cm.shape[0]), range(cm.shape[1])):\n",
    "        plt.text(j, i, format(cm[i, j], fmt),\n",
    "                 horizontalalignment=\"center\",\n",
    "                 color=\"white\" if cm[i, j] > thresh else \"black\")\n",
    "\n",
    "    plt.tight_layout()\n",
    "    plt.ylabel('True label')\n",
    "    plt.xlabel('Predicted label')"
   ]
  },
  {
   "cell_type": "markdown",
   "metadata": {},
   "source": [
    "###### Function for Hyperparameter Tuning using Cross Validation Plots \n",
    "Plot of validation scores w.r.t. the sequence of each hyperparameter put up for tuning"
   ]
  },
  {
   "cell_type": "code",
   "execution_count": 9,
   "metadata": {
    "collapsed": true
   },
   "outputs": [],
   "source": [
    "def tuning_cv_plot(clf, parameter, param_range, index):\n",
    "    fold = KFold(len(Y_train), n_folds=5, shuffle=True, random_state=5)\n",
    "    gs_clf = GridSearchCV(clf, param_grid={parameter: param_range}, cv=fold)\n",
    "    gs_clf.fit(X_train, Y_train) \n",
    "    score_values = gs_clf.cv_results_['mean_test_score'] # the mean CV score\n",
    "    plt.figure(figsize=(12,10))\n",
    "    plt.subplot(3, 2, index)\n",
    "    plot = plt.plot(param_range, score_values)\n",
    "    plt.xlabel(parameter)\n",
    "    plt.ylabel('scores')\n",
    "    plt.show()\n",
    "    print('Tuned Value: ', gs_clf.best_params_) # highest tuned\n",
    "    return gs_clf"
   ]
  },
  {
   "cell_type": "markdown",
   "metadata": {},
   "source": [
    "##### LOGISTIC REGRESSION\n",
    "- L2 Regularization\n",
    "- C : Inverse of regularization strength"
   ]
  },
  {
   "cell_type": "code",
   "execution_count": 10,
   "metadata": {
    "collapsed": false,
    "scrolled": false
   },
   "outputs": [
    {
     "data": {
      "image/png": "[encoded data removed]",
      "text/plain": [
       "<matplotlib.figure.Figure at 0x102e7f748>"
      ]
     },
     "metadata": {},
     "output_type": "display_data"
    },
    {
     "name": "stdout",
     "output_type": "stream",
     "text": [
      "Tuned Value:  {'C': 10.0}\n"
     ]
    }
   ],
   "source": [
    "# LOGISTIC REGRESSION\n",
    "\n",
    "grid = {'C': np.power(10.0, np.arange(0, 5))} # grid of hyperparameters\n",
    "logreg = LogisticRegression(solver='newton-cg', \n",
    "                            penalty='l2', random_state=8, \n",
    "                            max_iter=10000, tol=10) # raw classifier\n",
    "gs_logreg = tuning_cv_plot(logreg, 'C', \n",
    "                           np.power(10.0, np.arange(0, 5)), 1) # plotting function"
   ]
  },
  {
   "cell_type": "code",
   "execution_count": 11,
   "metadata": {
    "collapsed": false
   },
   "outputs": [
    {
     "name": "stdout",
     "output_type": "stream",
     "text": [
      "Mean CV Training Accuracy:  0.905821917808\n",
      "Testing Accuracy: 0.893835616438\n"
     ]
    }
   ],
   "source": [
    "# MODEL ACCURACY\n",
    "print ('Mean CV Training Accuracy: ', gs_logreg.best_score_) \n",
    "Y_pred_logreg = gs_logreg.predict(X_test) # Predicted Y corresponding to X_test\n",
    "print ('Testing Accuracy:', gs_logreg.score(X_test, Y_test))"
   ]
  },
  {
   "cell_type": "code",
   "execution_count": 12,
   "metadata": {
    "collapsed": false
   },
   "outputs": [
    {
     "name": "stdout",
     "output_type": "stream",
     "text": [
      "Confusion Matrix\n",
      "[[  0   3   1]\n",
      " [  0 116  13]\n",
      " [  0  14 145]]\n"
     ]
    },
    {
     "data": {
      "image/png": "[encoded data removed]",
      "text/plain": [
       "<matplotlib.figure.Figure at 0x117103278>"
      ]
     },
     "metadata": {},
     "output_type": "display_data"
    }
   ],
   "source": [
    "# CONFUSION MATRIX PLOT\n",
    "\n",
    "class_names = [\"NotSold\", \"SoldSlow\", \"SoldFast\"]\n",
    "\n",
    "cnf_matrix = confusion_matrix(Y_test, Y_pred_logreg)\n",
    "np.set_printoptions(precision=2)\n",
    "\n",
    "plt.figure()\n",
    "plot_confusion_matrix(cnf_matrix, classes=class_names,\n",
    "                      title='Confusion Matrix')\n",
    "plt.show()"
   ]
  },
  {
   "cell_type": "code",
   "execution_count": 13,
   "metadata": {
    "collapsed": false
   },
   "outputs": [
    {
     "data": {
      "text/plain": [
       "['logistic_regression.pkl']"
      ]
     },
     "execution_count": 13,
     "metadata": {},
     "output_type": "execute_result"
    }
   ],
   "source": [
    "# EXPORTING MODEL.PKL\n",
    "\n",
    "joblib.dump(gs_logreg, 'logistic_regression.pkl') "
   ]
  },
  {
   "cell_type": "markdown",
   "metadata": {},
   "source": [
    "###### Final Accuracy of Logistic Regression: 89.38%"
   ]
  },
  {
   "cell_type": "markdown",
   "metadata": {},
   "source": [
    "\n"
   ]
  },
  {
   "cell_type": "markdown",
   "metadata": {},
   "source": [
    "##### K NEAREST NEIGHBORS CLASSIFIER\n",
    "- Classification is computed from a simple majority vote of the nearest neighbors of each point.\n",
    "- n_neighbors : number of nearest neighbors to be considered for majority deduction"
   ]
  },
  {
   "cell_type": "code",
   "execution_count": 14,
   "metadata": {
    "collapsed": false
   },
   "outputs": [
    {
     "data": {
      "image/png": "[encoded data removed]",
      "text/plain": [
       "<matplotlib.figure.Figure at 0x114eaad30>"
      ]
     },
     "metadata": {},
     "output_type": "display_data"
    },
    {
     "name": "stdout",
     "output_type": "stream",
     "text": [
      "Tuned Value:  {'n_neighbors': 7}\n"
     ]
    }
   ],
   "source": [
    "# K NEAREST NEIGHBORS\n",
    "\n",
    "grid = {'n_neighbors': np.arange(1, 41, 2)} # tuning parameters\n",
    "knn = KNeighborsClassifier() # raw classifier\n",
    "\n",
    "gs_knn = tuning_cv_plot(knn, 'n_neighbors', np.arange(1, 41, 2), 1)"
   ]
  },
  {
   "cell_type": "code",
   "execution_count": 15,
   "metadata": {
    "collapsed": false
   },
   "outputs": [
    {
     "name": "stdout",
     "output_type": "stream",
     "text": [
      "Mean CV Training Accuracy:  0.833904109589\n",
      "Testing Accuracy: 0.825342465753\n"
     ]
    }
   ],
   "source": [
    "# MODEL ACCURACY\n",
    "print ('Mean CV Training Accuracy: ', gs_knn.best_score_)\n",
    "Y_pred_knn = gs_knn.predict(X_test) \n",
    "print ('Testing Accuracy:', gs_knn.score(X_test, Y_test))"
   ]
  },
  {
   "cell_type": "code",
   "execution_count": 16,
   "metadata": {
    "collapsed": false
   },
   "outputs": [
    {
     "name": "stdout",
     "output_type": "stream",
     "text": [
      "Confusion Matrix\n",
      "[[  0   3   1]\n",
      " [  0 116  13]\n",
      " [  0  14 145]]\n"
     ]
    },
    {
     "data": {
      "image/png": "[encoded data removed]",
      "text/plain": [
       "<matplotlib.figure.Figure at 0x114b0b898>"
      ]
     },
     "metadata": {},
     "output_type": "display_data"
    }
   ],
   "source": [
    "# CONFUSION MATRIX PLOT\n",
    "\n",
    "cnf_matrix = confusion_matrix(Y_test, Y_pred_logreg)\n",
    "np.set_printoptions(precision=2)\n",
    "\n",
    "plt.figure()\n",
    "plot_confusion_matrix(cnf_matrix, classes=class_names,\n",
    "                      title='Confusion Matrix')\n",
    "plt.show()"
   ]
  },
  {
   "cell_type": "code",
   "execution_count": 17,
   "metadata": {
    "collapsed": false
   },
   "outputs": [
    {
     "data": {
      "text/plain": [
       "['k_nearest_neighbors.pkl']"
      ]
     },
     "execution_count": 17,
     "metadata": {},
     "output_type": "execute_result"
    }
   ],
   "source": [
    "# EXPORTING MODEL.PKL\n",
    "\n",
    "joblib.dump(gs_knn, 'k_nearest_neighbors.pkl') "
   ]
  },
  {
   "cell_type": "markdown",
   "metadata": {},
   "source": [
    "###### Final Accuracy of K Nearest Neighbors: 82.53%"
   ]
  },
  {
   "cell_type": "markdown",
   "metadata": {},
   "source": [
    "\n"
   ]
  },
  {
   "cell_type": "markdown",
   "metadata": {},
   "source": [
    "##### DECISION TREE CLASSIFIER\n",
    "- criterion : Gini Impurity(\"gini\") or Information Gain(\"entropy\")\n",
    "- min_samples_split : minimum number of samples required to split an internal node\n",
    "- max_depth : maximum depth of the tree\n",
    "- min_samples_leaf : minimum number of samples required to be at a leaf node\n",
    "- max_leaf_nodes : constraint of maximum leaf nodes for the tree to grow in best-first fashion"
   ]
  },
  {
   "cell_type": "code",
   "execution_count": 18,
   "metadata": {
    "collapsed": false
   },
   "outputs": [
    {
     "data": {
      "image/png": "[encoded data removed]",
      "text/plain": [
       "<matplotlib.figure.Figure at 0x1170d61d0>"
      ]
     },
     "metadata": {},
     "output_type": "display_data"
    },
    {
     "name": "stdout",
     "output_type": "stream",
     "text": [
      "Tuned Value:  {'min_samples_split': 7}\n"
     ]
    },
    {
     "data": {
      "image/png": "[encoded data removed]",
      "text/plain": [
       "<matplotlib.figure.Figure at 0x10215e390>"
      ]
     },
     "metadata": {},
     "output_type": "display_data"
    },
    {
     "name": "stdout",
     "output_type": "stream",
     "text": [
      "Tuned Value:  {'max_depth': 6}\n"
     ]
    },
    {
     "data": {
      "image/png": "[encoded data removed]",
      "text/plain": [
       "<matplotlib.figure.Figure at 0x117286be0>"
      ]
     },
     "metadata": {},
     "output_type": "display_data"
    },
    {
     "name": "stdout",
     "output_type": "stream",
     "text": [
      "Tuned Value:  {'min_samples_leaf': 2}\n"
     ]
    },
    {
     "data": {
      "image/png": "[encoded data removed]",
      "text/plain": [
       "<matplotlib.figure.Figure at 0x114978da0>"
      ]
     },
     "metadata": {},
     "output_type": "display_data"
    },
    {
     "name": "stdout",
     "output_type": "stream",
     "text": [
      "Tuned Value:  {'max_leaf_nodes': 18}\n"
     ]
    },
    {
     "data": {
      "text/plain": [
       "''"
      ]
     },
     "execution_count": 18,
     "metadata": {},
     "output_type": "execute_result"
    }
   ],
   "source": [
    "# DECISION TREE\n",
    "\n",
    "grid = {\"min_samples_split\": np.arange(3, 20, 1),\n",
    "        \"max_depth\": np.arange(2, 16, 2),\n",
    "        \"min_samples_leaf\": np.arange(1, 25, 1),\n",
    "        \"max_leaf_nodes\": np.arange(2, 30, 1)}\n",
    "dtree = DecisionTreeClassifier(criterion=\"entropy\", random_state=8) # raw model\n",
    "\n",
    "# visualizing the hyperparameters one at a time against the mean CV accuracy\n",
    "index = 1\n",
    "for parameter, param_range in dict.items(grid): \n",
    "    tuning_cv_plot(dtree, parameter, param_range, index) # plotting-function defined previously\n",
    "    index += 1\n",
    ";"
   ]
  },
  {
   "cell_type": "markdown",
   "metadata": {},
   "source": [
    "###### Plot insights: \n",
    "- min_samples_split : haphazard nature, though slightly higher scores in the middle\n",
    "- max_depth : increases initially, and then becomes almost constant\n",
    "- min_samples_leaf : haphazard, but overall deeacrasing\n",
    "- max_leaf_nodes : increasing, then becomes nearly constant"
   ]
  },
  {
   "cell_type": "code",
   "execution_count": 19,
   "metadata": {
    "collapsed": false
   },
   "outputs": [
    {
     "data": {
      "text/plain": [
       "array([ 0.97,  0.97,  0.98,  0.97,  0.94])"
      ]
     },
     "execution_count": 19,
     "metadata": {},
     "output_type": "execute_result"
    }
   ],
   "source": [
    "# Redefining the model with the tuned parameters\n",
    "fold = KFold(len(Y_train), n_folds=5, shuffle=True, random_state=5) # 5 folds\n",
    "dtree = DecisionTreeClassifier(random_state=8, criterion=\"entropy\",\n",
    "                                min_samples_split=12, max_depth=8,\n",
    "                                min_samples_leaf=5, max_leaf_nodes=21)\n",
    "dtree.fit(X_train, Y_train)\n",
    "scores_dtree = cross_val_score(dtree, X_train, Y_train, cv=fold)\n",
    "scores_dtree"
   ]
  },
  {
   "cell_type": "code",
   "execution_count": 20,
   "metadata": {
    "collapsed": false
   },
   "outputs": [
    {
     "name": "stdout",
     "output_type": "stream",
     "text": [
      "Mean CV Training Accuracy:  0.964876563589\n",
      "Testing Accuracy: 0.972602739726\n"
     ]
    }
   ],
   "source": [
    "# MODEL ACCURACY \n",
    "\n",
    "print ('Mean CV Training Accuracy: ', scores_dtree.mean())\n",
    "Y_pred_dtree = dtree.predict(X_test) # Predicted Y corresponding to X_test\n",
    "print ('Testing Accuracy:', dtree.score(X_test, Y_test))"
   ]
  },
  {
   "cell_type": "markdown",
   "metadata": {},
   "source": [
    "##### TREE VISUALIZER \n",
    "Very complex due to the high dimensionality of X, but quite insightful if observed carefully."
   ]
  },
  {
   "cell_type": "code",
   "execution_count": 21,
   "metadata": {
    "collapsed": false
   },
   "outputs": [
    {
     "data": {
      "image/svg+xml": [
       "<?xml version=\"1.0\" encoding=\"UTF-8\" standalone=\"no\"?>\n",
       "<!DOCTYPE svg PUBLIC \"-//W3C//DTD SVG 1.1//EN\"\n",
       " \"http://www.w3.org/Graphics/SVG/1.1/DTD/svg11.dtd\">\n",
       "<!-- Generated by graphviz version 2.40.1 (20161225.0304)\n",
       " -->\n",
       "<!-- Title: Tree Pages: 1 -->\n",
       "<svg width=\"1532pt\" height=\"984pt\"\n",
       " viewBox=\"0.00 0.00 1532.40 984.00\" xmlns=\"http://www.w3.org/2000/svg\" xmlns:xlink=\"http://www.w3.org/1999/xlink\">\n",
       "<g id=\"graph0\" class=\"graph\" transform=\"scale(1 1) rotate(0) translate(4 980)\">\n",
       "<title>Tree</title>\n",
       "<polygon fill=\"#ffffff\" stroke=\"transparent\" points=\"-4,4 -4,-980 1528.396,-980 1528.396,4 -4,4\"/>\n",
       "<!-- 0 -->\n",
       "<g id=\"node1\" class=\"node\">\n",
       "<title>0</title>\n",
       "<path fill=\"#39e581\" fill-opacity=\"0.133333\" stroke=\"#000000\" d=\"M577.6111,-976C577.6111,-976 458.0813,-976 458.0813,-976 452.0813,-976 446.0813,-970 446.0813,-964 446.0813,-964 446.0813,-910 446.0813,-910 446.0813,-904 452.0813,-898 458.0813,-898 458.0813,-898 577.6111,-898 577.6111,-898 583.6111,-898 589.6111,-904 589.6111,-910 589.6111,-910 589.6111,-964 589.6111,-964 589.6111,-970 583.6111,-976 577.6111,-976\"/>\n",
       "<text text-anchor=\"start\" x=\"481.7046\" y=\"-961.8\" font-family=\"Helvetica,sans-Serif\" font-size=\"14.00\" fill=\"#000000\">X</text>\n",
       "<text text-anchor=\"start\" x=\"491.0425\" y=\"-961.8\" font-family=\"Helvetica,sans-Serif\" baseline-shift=\"sub\" font-size=\"14.00\" fill=\"#000000\">1</text>\n",
       "<text text-anchor=\"start\" x=\"498.8286\" y=\"-961.8\" font-family=\"Helvetica,sans-Serif\" font-size=\"14.00\" fill=\"#000000\"> ≤ &#45;0.433</text>\n",
       "<text text-anchor=\"start\" x=\"469.0034\" y=\"-947.8\" font-family=\"Helvetica,sans-Serif\" font-size=\"14.00\" fill=\"#000000\">entropy = 1.032</text>\n",
       "<text text-anchor=\"start\" x=\"468.7471\" y=\"-933.8\" font-family=\"Helvetica,sans-Serif\" font-size=\"14.00\" fill=\"#000000\">samples = 1168</text>\n",
       "<text text-anchor=\"start\" x=\"454.2139\" y=\"-919.8\" font-family=\"Helvetica,sans-Serif\" font-size=\"14.00\" fill=\"#000000\">value = [5, 623, 540]</text>\n",
       "<text text-anchor=\"start\" x=\"464.7378\" y=\"-905.8\" font-family=\"Helvetica,sans-Serif\" font-size=\"14.00\" fill=\"#000000\">class = SoldSlow</text>\n",
       "</g>\n",
       "<!-- 1 -->\n",
       "<g id=\"node2\" class=\"node\">\n",
       "<title>1</title>\n",
       "<path fill=\"#8139e5\" fill-opacity=\"0.984314\" stroke=\"#000000\" d=\"M493.5389,-862C493.5389,-862 390.1534,-862 390.1534,-862 384.1534,-862 378.1534,-856 378.1534,-850 378.1534,-850 378.1534,-796 378.1534,-796 378.1534,-790 384.1534,-784 390.1534,-784 390.1534,-784 493.5389,-784 493.5389,-784 499.5389,-784 505.5389,-790 505.5389,-796 505.5389,-796 505.5389,-850 505.5389,-850 505.5389,-856 499.5389,-862 493.5389,-862\"/>\n",
       "<text text-anchor=\"start\" x=\"401.8115\" y=\"-847.8\" font-family=\"Helvetica,sans-Serif\" font-size=\"14.00\" fill=\"#000000\">X</text>\n",
       "<text text-anchor=\"start\" x=\"411.1494\" y=\"-847.8\" font-family=\"Helvetica,sans-Serif\" baseline-shift=\"sub\" font-size=\"14.00\" fill=\"#000000\">14</text>\n",
       "<text text-anchor=\"start\" x=\"426.7217\" y=\"-847.8\" font-family=\"Helvetica,sans-Serif\" font-size=\"14.00\" fill=\"#000000\"> ≤ &#45;1.675</text>\n",
       "<text text-anchor=\"start\" x=\"393.0034\" y=\"-833.8\" font-family=\"Helvetica,sans-Serif\" font-size=\"14.00\" fill=\"#000000\">entropy = 0.142</text>\n",
       "<text text-anchor=\"start\" x=\"396.124\" y=\"-819.8\" font-family=\"Helvetica,sans-Serif\" font-size=\"14.00\" fill=\"#000000\">samples = 408</text>\n",
       "<text text-anchor=\"start\" x=\"386\" y=\"-805.8\" font-family=\"Helvetica,sans-Serif\" font-size=\"14.00\" fill=\"#000000\">value = [4, 3, 401]</text>\n",
       "<text text-anchor=\"start\" x=\"390.2964\" y=\"-791.8\" font-family=\"Helvetica,sans-Serif\" font-size=\"14.00\" fill=\"#000000\">class = SoldFast</text>\n",
       "</g>\n",
       "<!-- 0&#45;&gt;1 -->\n",
       "<g id=\"edge1\" class=\"edge\">\n",
       "<title>0&#45;&gt;1</title>\n",
       "<path fill=\"none\" stroke=\"#000000\" d=\"M491.6913,-897.7677C485.8994,-889.0798 479.6996,-879.7801 473.7088,-870.794\"/>\n",
       "<polygon fill=\"#000000\" stroke=\"#000000\" points=\"476.5085,-868.6837 468.0493,-862.3046 470.6842,-872.5666 476.5085,-868.6837\"/>\n",
       "<text text-anchor=\"middle\" x=\"463.1464\" y=\"-882.6192\" font-family=\"Helvetica,sans-Serif\" font-size=\"14.00\" fill=\"#000000\">True</text>\n",
       "</g>\n",
       "<!-- 2 -->\n",
       "<g id=\"node11\" class=\"node\">\n",
       "<title>2</title>\n",
       "<path fill=\"#39e581\" fill-opacity=\"0.776471\" stroke=\"#000000\" d=\"M715.6111,-862C715.6111,-862 596.0813,-862 596.0813,-862 590.0813,-862 584.0813,-856 584.0813,-850 584.0813,-850 584.0813,-796 584.0813,-796 584.0813,-790 590.0813,-784 596.0813,-784 596.0813,-784 715.6111,-784 715.6111,-784 721.6111,-784 727.6111,-790 727.6111,-796 727.6111,-796 727.6111,-850 727.6111,-850 727.6111,-856 721.6111,-862 715.6111,-862\"/>\n",
       "<text text-anchor=\"start\" x=\"622.0356\" y=\"-847.8\" font-family=\"Helvetica,sans-Serif\" font-size=\"14.00\" fill=\"#000000\">X</text>\n",
       "<text text-anchor=\"start\" x=\"631.3735\" y=\"-847.8\" font-family=\"Helvetica,sans-Serif\" baseline-shift=\"sub\" font-size=\"14.00\" fill=\"#000000\">9</text>\n",
       "<text text-anchor=\"start\" x=\"639.1597\" y=\"-847.8\" font-family=\"Helvetica,sans-Serif\" font-size=\"14.00\" fill=\"#000000\"> ≤ 1.376</text>\n",
       "<text text-anchor=\"start\" x=\"614.7896\" y=\"-833.8\" font-family=\"Helvetica,sans-Serif\" font-size=\"14.00\" fill=\"#000000\">entropy = 0.7</text>\n",
       "<text text-anchor=\"start\" x=\"610.124\" y=\"-819.8\" font-family=\"Helvetica,sans-Serif\" font-size=\"14.00\" fill=\"#000000\">samples = 760</text>\n",
       "<text text-anchor=\"start\" x=\"592.2139\" y=\"-805.8\" font-family=\"Helvetica,sans-Serif\" font-size=\"14.00\" fill=\"#000000\">value = [1, 620, 139]</text>\n",
       "<text text-anchor=\"start\" x=\"602.7378\" y=\"-791.8\" font-family=\"Helvetica,sans-Serif\" font-size=\"14.00\" fill=\"#000000\">class = SoldSlow</text>\n",
       "</g>\n",
       "<!-- 0&#45;&gt;2 -->\n",
       "<g id=\"edge10\" class=\"edge\">\n",
       "<title>0&#45;&gt;2</title>\n",
       "<path fill=\"none\" stroke=\"#000000\" d=\"M565.338,-897.7677C576.6138,-888.4529 588.741,-878.4347 600.339,-868.8538\"/>\n",
       "<polygon fill=\"#000000\" stroke=\"#000000\" points=\"602.7863,-871.3719 608.2669,-862.3046 598.3281,-865.9751 602.7863,-871.3719\"/>\n",
       "<text text-anchor=\"middle\" x=\"605.8967\" y=\"-882.992\" font-family=\"Helvetica,sans-Serif\" font-size=\"14.00\" fill=\"#000000\">False</text>\n",
       "</g>\n",
       "<!-- 17 -->\n",
       "<g id=\"node3\" class=\"node\">\n",
       "<title>17</title>\n",
       "<path fill=\"#8139e5\" fill-opacity=\"0.768627\" stroke=\"#000000\" d=\"M347.7525,-741C347.7525,-741 251.9399,-741 251.9399,-741 245.9399,-741 239.9399,-735 239.9399,-729 239.9399,-729 239.9399,-689 239.9399,-689 239.9399,-683 245.9399,-677 251.9399,-677 251.9399,-677 347.7525,-677 347.7525,-677 353.7525,-677 359.7525,-683 359.7525,-689 359.7525,-689 359.7525,-729 359.7525,-729 359.7525,-735 353.7525,-741 347.7525,-741\"/>\n",
       "<text text-anchor=\"start\" x=\"251.0034\" y=\"-725.8\" font-family=\"Helvetica,sans-Serif\" font-size=\"14.00\" fill=\"#000000\">entropy = 0.696</text>\n",
       "<text text-anchor=\"start\" x=\"258.0171\" y=\"-711.8\" font-family=\"Helvetica,sans-Serif\" font-size=\"14.00\" fill=\"#000000\">samples = 16</text>\n",
       "<text text-anchor=\"start\" x=\"247.8931\" y=\"-697.8\" font-family=\"Helvetica,sans-Serif\" font-size=\"14.00\" fill=\"#000000\">value = [3, 0, 13]</text>\n",
       "<text text-anchor=\"start\" x=\"248.2964\" y=\"-683.8\" font-family=\"Helvetica,sans-Serif\" font-size=\"14.00\" fill=\"#000000\">class = SoldFast</text>\n",
       "</g>\n",
       "<!-- 1&#45;&gt;17 -->\n",
       "<g id=\"edge2\" class=\"edge\">\n",
       "<title>1&#45;&gt;17</title>\n",
       "<path fill=\"none\" stroke=\"#000000\" d=\"M392.9778,-783.7677C378.3567,-772.0296 362.3443,-759.1745 347.7836,-747.485\"/>\n",
       "<polygon fill=\"#000000\" stroke=\"#000000\" points=\"349.8509,-744.6563 339.8618,-741.1252 345.4686,-750.1149 349.8509,-744.6563\"/>\n",
       "</g>\n",
       "<!-- 18 -->\n",
       "<g id=\"node4\" class=\"node\">\n",
       "<title>18</title>\n",
       "<path fill=\"#8139e5\" fill-opacity=\"0.988235\" stroke=\"#000000\" d=\"M493.5389,-748C493.5389,-748 390.1534,-748 390.1534,-748 384.1534,-748 378.1534,-742 378.1534,-736 378.1534,-736 378.1534,-682 378.1534,-682 378.1534,-676 384.1534,-670 390.1534,-670 390.1534,-670 493.5389,-670 493.5389,-670 499.5389,-670 505.5389,-676 505.5389,-682 505.5389,-682 505.5389,-736 505.5389,-736 505.5389,-742 499.5389,-748 493.5389,-748\"/>\n",
       "<text text-anchor=\"start\" x=\"408.0356\" y=\"-733.8\" font-family=\"Helvetica,sans-Serif\" font-size=\"14.00\" fill=\"#000000\">X</text>\n",
       "<text text-anchor=\"start\" x=\"417.3735\" y=\"-733.8\" font-family=\"Helvetica,sans-Serif\" baseline-shift=\"sub\" font-size=\"14.00\" fill=\"#000000\">7</text>\n",
       "<text text-anchor=\"start\" x=\"425.1597\" y=\"-733.8\" font-family=\"Helvetica,sans-Serif\" font-size=\"14.00\" fill=\"#000000\"> ≤ 0.397</text>\n",
       "<text text-anchor=\"start\" x=\"396.8965\" y=\"-719.8\" font-family=\"Helvetica,sans-Serif\" font-size=\"14.00\" fill=\"#000000\">entropy = 0.09</text>\n",
       "<text text-anchor=\"start\" x=\"396.124\" y=\"-705.8\" font-family=\"Helvetica,sans-Serif\" font-size=\"14.00\" fill=\"#000000\">samples = 392</text>\n",
       "<text text-anchor=\"start\" x=\"386\" y=\"-691.8\" font-family=\"Helvetica,sans-Serif\" font-size=\"14.00\" fill=\"#000000\">value = [1, 3, 388]</text>\n",
       "<text text-anchor=\"start\" x=\"390.2964\" y=\"-677.8\" font-family=\"Helvetica,sans-Serif\" font-size=\"14.00\" fill=\"#000000\">class = SoldFast</text>\n",
       "</g>\n",
       "<!-- 1&#45;&gt;18 -->\n",
       "<g id=\"edge3\" class=\"edge\">\n",
       "<title>1&#45;&gt;18</title>\n",
       "<path fill=\"none\" stroke=\"#000000\" d=\"M441.8462,-783.7677C441.8462,-775.6172 441.8462,-766.9283 441.8462,-758.4649\"/>\n",
       "<polygon fill=\"#000000\" stroke=\"#000000\" points=\"445.3463,-758.3046 441.8462,-748.3046 438.3463,-758.3047 445.3463,-758.3046\"/>\n",
       "</g>\n",
       "<!-- 23 -->\n",
       "<g id=\"node5\" class=\"node\">\n",
       "<title>23</title>\n",
       "<path fill=\"#8139e5\" fill-opacity=\"0.996078\" stroke=\"#000000\" d=\"M256.5389,-634C256.5389,-634 153.1534,-634 153.1534,-634 147.1534,-634 141.1534,-628 141.1534,-622 141.1534,-622 141.1534,-568 141.1534,-568 141.1534,-562 147.1534,-556 153.1534,-556 153.1534,-556 256.5389,-556 256.5389,-556 262.5389,-556 268.5389,-562 268.5389,-568 268.5389,-568 268.5389,-622 268.5389,-622 268.5389,-628 262.5389,-634 256.5389,-634\"/>\n",
       "<text text-anchor=\"start\" x=\"167.1426\" y=\"-619.8\" font-family=\"Helvetica,sans-Serif\" font-size=\"14.00\" fill=\"#000000\">X</text>\n",
       "<text text-anchor=\"start\" x=\"176.4805\" y=\"-619.8\" font-family=\"Helvetica,sans-Serif\" baseline-shift=\"sub\" font-size=\"14.00\" fill=\"#000000\">10</text>\n",
       "<text text-anchor=\"start\" x=\"192.0527\" y=\"-619.8\" font-family=\"Helvetica,sans-Serif\" font-size=\"14.00\" fill=\"#000000\"> ≤ 2.071</text>\n",
       "<text text-anchor=\"start\" x=\"159.8965\" y=\"-605.8\" font-family=\"Helvetica,sans-Serif\" font-size=\"14.00\" fill=\"#000000\">entropy = 0.03</text>\n",
       "<text text-anchor=\"start\" x=\"159.124\" y=\"-591.8\" font-family=\"Helvetica,sans-Serif\" font-size=\"14.00\" fill=\"#000000\">samples = 323</text>\n",
       "<text text-anchor=\"start\" x=\"149\" y=\"-577.8\" font-family=\"Helvetica,sans-Serif\" font-size=\"14.00\" fill=\"#000000\">value = [1, 0, 322]</text>\n",
       "<text text-anchor=\"start\" x=\"153.2964\" y=\"-563.8\" font-family=\"Helvetica,sans-Serif\" font-size=\"14.00\" fill=\"#000000\">class = SoldFast</text>\n",
       "</g>\n",
       "<!-- 18&#45;&gt;23 -->\n",
       "<g id=\"edge4\" class=\"edge\">\n",
       "<title>18&#45;&gt;23</title>\n",
       "<path fill=\"none\" stroke=\"#000000\" d=\"M377.8681,-674.5325C374.8265,-672.9844 371.8078,-671.4666 368.8462,-670 339.4798,-655.4579 306.7116,-640.2698 278.2325,-627.3947\"/>\n",
       "<polygon fill=\"#000000\" stroke=\"#000000\" points=\"279.3049,-624.0391 268.7498,-623.1214 276.4288,-630.421 279.3049,-624.0391\"/>\n",
       "</g>\n",
       "<!-- 24 -->\n",
       "<g id=\"node8\" class=\"node\">\n",
       "<title>24</title>\n",
       "<path fill=\"#8139e5\" fill-opacity=\"0.952941\" stroke=\"#000000\" d=\"M489.7525,-634C489.7525,-634 393.9399,-634 393.9399,-634 387.9399,-634 381.9399,-628 381.9399,-622 381.9399,-622 381.9399,-568 381.9399,-568 381.9399,-562 387.9399,-556 393.9399,-556 393.9399,-556 489.7525,-556 489.7525,-556 495.7525,-556 501.7525,-562 501.7525,-568 501.7525,-568 501.7525,-622 501.7525,-622 501.7525,-628 495.7525,-634 489.7525,-634\"/>\n",
       "<text text-anchor=\"start\" x=\"408.0356\" y=\"-619.8\" font-family=\"Helvetica,sans-Serif\" font-size=\"14.00\" fill=\"#000000\">X</text>\n",
       "<text text-anchor=\"start\" x=\"417.3735\" y=\"-619.8\" font-family=\"Helvetica,sans-Serif\" baseline-shift=\"sub\" font-size=\"14.00\" fill=\"#000000\">0</text>\n",
       "<text text-anchor=\"start\" x=\"425.1597\" y=\"-619.8\" font-family=\"Helvetica,sans-Serif\" font-size=\"14.00\" fill=\"#000000\"> ≤ 0.326</text>\n",
       "<text text-anchor=\"start\" x=\"393.0034\" y=\"-605.8\" font-family=\"Helvetica,sans-Serif\" font-size=\"14.00\" fill=\"#000000\">entropy = 0.258</text>\n",
       "<text text-anchor=\"start\" x=\"400.0171\" y=\"-591.8\" font-family=\"Helvetica,sans-Serif\" font-size=\"14.00\" fill=\"#000000\">samples = 69</text>\n",
       "<text text-anchor=\"start\" x=\"389.8931\" y=\"-577.8\" font-family=\"Helvetica,sans-Serif\" font-size=\"14.00\" fill=\"#000000\">value = [0, 3, 66]</text>\n",
       "<text text-anchor=\"start\" x=\"390.2964\" y=\"-563.8\" font-family=\"Helvetica,sans-Serif\" font-size=\"14.00\" fill=\"#000000\">class = SoldFast</text>\n",
       "</g>\n",
       "<!-- 18&#45;&gt;24 -->\n",
       "<g id=\"edge7\" class=\"edge\">\n",
       "<title>18&#45;&gt;24</title>\n",
       "<path fill=\"none\" stroke=\"#000000\" d=\"M441.8462,-669.7677C441.8462,-661.6172 441.8462,-652.9283 441.8462,-644.4649\"/>\n",
       "<polygon fill=\"#000000\" stroke=\"#000000\" points=\"445.3463,-644.3046 441.8462,-634.3046 438.3463,-644.3047 445.3463,-644.3046\"/>\n",
       "</g>\n",
       "<!-- 35 -->\n",
       "<g id=\"node6\" class=\"node\">\n",
       "<title>35</title>\n",
       "<path fill=\"#8139e5\" stroke=\"#000000\" d=\"M115.5389,-513C115.5389,-513 12.1534,-513 12.1534,-513 6.1534,-513 .1534,-507 .1534,-501 .1534,-501 .1534,-461 .1534,-461 .1534,-455 6.1534,-449 12.1534,-449 12.1534,-449 115.5389,-449 115.5389,-449 121.5389,-449 127.5389,-455 127.5389,-461 127.5389,-461 127.5389,-501 127.5389,-501 127.5389,-507 121.5389,-513 115.5389,-513\"/>\n",
       "<text text-anchor=\"start\" x=\"22.7896\" y=\"-497.8\" font-family=\"Helvetica,sans-Serif\" font-size=\"14.00\" fill=\"#000000\">entropy = 0.0</text>\n",
       "<text text-anchor=\"start\" x=\"18.124\" y=\"-483.8\" font-family=\"Helvetica,sans-Serif\" font-size=\"14.00\" fill=\"#000000\">samples = 318</text>\n",
       "<text text-anchor=\"start\" x=\"8\" y=\"-469.8\" font-family=\"Helvetica,sans-Serif\" font-size=\"14.00\" fill=\"#000000\">value = [0, 0, 318]</text>\n",
       "<text text-anchor=\"start\" x=\"12.2964\" y=\"-455.8\" font-family=\"Helvetica,sans-Serif\" font-size=\"14.00\" fill=\"#000000\">class = SoldFast</text>\n",
       "</g>\n",
       "<!-- 23&#45;&gt;35 -->\n",
       "<g id=\"edge5\" class=\"edge\">\n",
       "<title>23&#45;&gt;35</title>\n",
       "<path fill=\"none\" stroke=\"#000000\" d=\"M156.322,-555.7677C141.8038,-544.0296 125.9042,-531.1745 111.446,-519.485\"/>\n",
       "<polygon fill=\"#000000\" stroke=\"#000000\" points=\"113.5569,-516.6907 103.58,-513.1252 109.1558,-522.1342 113.5569,-516.6907\"/>\n",
       "</g>\n",
       "<!-- 36 -->\n",
       "<g id=\"node7\" class=\"node\">\n",
       "<title>36</title>\n",
       "<path fill=\"#8139e5\" fill-opacity=\"0.749020\" stroke=\"#000000\" d=\"M252.4458,-513C252.4458,-513 157.2465,-513 157.2465,-513 151.2465,-513 145.2465,-507 145.2465,-501 145.2465,-501 145.2465,-461 145.2465,-461 145.2465,-455 151.2465,-449 157.2465,-449 157.2465,-449 252.4458,-449 252.4458,-449 258.4458,-449 264.4458,-455 264.4458,-461 264.4458,-461 264.4458,-501 264.4458,-501 264.4458,-507 258.4458,-513 252.4458,-513\"/>\n",
       "<text text-anchor=\"start\" x=\"156.0034\" y=\"-497.8\" font-family=\"Helvetica,sans-Serif\" font-size=\"14.00\" fill=\"#000000\">entropy = 0.722</text>\n",
       "<text text-anchor=\"start\" x=\"166.9102\" y=\"-483.8\" font-family=\"Helvetica,sans-Serif\" font-size=\"14.00\" fill=\"#000000\">samples = 5</text>\n",
       "<text text-anchor=\"start\" x=\"156.7861\" y=\"-469.8\" font-family=\"Helvetica,sans-Serif\" font-size=\"14.00\" fill=\"#000000\">value = [1, 0, 4]</text>\n",
       "<text text-anchor=\"start\" x=\"153.2964\" y=\"-455.8\" font-family=\"Helvetica,sans-Serif\" font-size=\"14.00\" fill=\"#000000\">class = SoldFast</text>\n",
       "</g>\n",
       "<!-- 23&#45;&gt;36 -->\n",
       "<g id=\"edge6\" class=\"edge\">\n",
       "<title>23&#45;&gt;36</title>\n",
       "<path fill=\"none\" stroke=\"#000000\" d=\"M204.8462,-555.7677C204.8462,-545.3338 204.8462,-534.0174 204.8462,-523.4215\"/>\n",
       "<polygon fill=\"#000000\" stroke=\"#000000\" points=\"208.3463,-523.1252 204.8462,-513.1252 201.3463,-523.1252 208.3463,-523.1252\"/>\n",
       "</g>\n",
       "<!-- 37 -->\n",
       "<g id=\"node9\" class=\"node\">\n",
       "<title>37</title>\n",
       "<path fill=\"#8139e5\" fill-opacity=\"0.984314\" stroke=\"#000000\" d=\"M390.7525,-513C390.7525,-513 294.9399,-513 294.9399,-513 288.9399,-513 282.9399,-507 282.9399,-501 282.9399,-501 282.9399,-461 282.9399,-461 282.9399,-455 288.9399,-449 294.9399,-449 294.9399,-449 390.7525,-449 390.7525,-449 396.7525,-449 402.7525,-455 402.7525,-461 402.7525,-461 402.7525,-501 402.7525,-501 402.7525,-507 396.7525,-513 390.7525,-513\"/>\n",
       "<text text-anchor=\"start\" x=\"294.5195\" y=\"-497.8\" font-family=\"Helvetica,sans-Serif\" font-size=\"14.00\" fill=\"#000000\">entropy = 0.118</text>\n",
       "<text text-anchor=\"start\" x=\"301.0171\" y=\"-483.8\" font-family=\"Helvetica,sans-Serif\" font-size=\"14.00\" fill=\"#000000\">samples = 63</text>\n",
       "<text text-anchor=\"start\" x=\"290.8931\" y=\"-469.8\" font-family=\"Helvetica,sans-Serif\" font-size=\"14.00\" fill=\"#000000\">value = [0, 1, 62]</text>\n",
       "<text text-anchor=\"start\" x=\"291.2964\" y=\"-455.8\" font-family=\"Helvetica,sans-Serif\" font-size=\"14.00\" fill=\"#000000\">class = SoldFast</text>\n",
       "</g>\n",
       "<!-- 24&#45;&gt;37 -->\n",
       "<g id=\"edge8\" class=\"edge\">\n",
       "<title>24&#45;&gt;37</title>\n",
       "<path fill=\"none\" stroke=\"#000000\" d=\"M407.776,-555.7677C397.9599,-544.4643 387.2444,-532.1252 377.3994,-520.7885\"/>\n",
       "<polygon fill=\"#000000\" stroke=\"#000000\" points=\"379.9439,-518.3806 370.7444,-513.1252 374.6587,-522.9705 379.9439,-518.3806\"/>\n",
       "</g>\n",
       "<!-- 38 -->\n",
       "<g id=\"node10\" class=\"node\">\n",
       "<title>38</title>\n",
       "<path fill=\"#8139e5\" fill-opacity=\"0.498039\" stroke=\"#000000\" d=\"M528.4458,-513C528.4458,-513 433.2465,-513 433.2465,-513 427.2465,-513 421.2465,-507 421.2465,-501 421.2465,-501 421.2465,-461 421.2465,-461 421.2465,-455 427.2465,-449 433.2465,-449 433.2465,-449 528.4458,-449 528.4458,-449 534.4458,-449 540.4458,-455 540.4458,-461 540.4458,-461 540.4458,-501 540.4458,-501 540.4458,-507 534.4458,-513 528.4458,-513\"/>\n",
       "<text text-anchor=\"start\" x=\"432.0034\" y=\"-497.8\" font-family=\"Helvetica,sans-Serif\" font-size=\"14.00\" fill=\"#000000\">entropy = 0.918</text>\n",
       "<text text-anchor=\"start\" x=\"442.9102\" y=\"-483.8\" font-family=\"Helvetica,sans-Serif\" font-size=\"14.00\" fill=\"#000000\">samples = 6</text>\n",
       "<text text-anchor=\"start\" x=\"432.7861\" y=\"-469.8\" font-family=\"Helvetica,sans-Serif\" font-size=\"14.00\" fill=\"#000000\">value = [0, 2, 4]</text>\n",
       "<text text-anchor=\"start\" x=\"429.2964\" y=\"-455.8\" font-family=\"Helvetica,sans-Serif\" font-size=\"14.00\" fill=\"#000000\">class = SoldFast</text>\n",
       "</g>\n",
       "<!-- 24&#45;&gt;38 -->\n",
       "<g id=\"edge9\" class=\"edge\">\n",
       "<title>24&#45;&gt;38</title>\n",
       "<path fill=\"none\" stroke=\"#000000\" d=\"M455.2678,-555.7677C458.9116,-545.1164 462.8701,-533.5455 466.5598,-522.7603\"/>\n",
       "<polygon fill=\"#000000\" stroke=\"#000000\" points=\"469.9306,-523.7198 469.856,-513.1252 463.3075,-521.4539 469.9306,-523.7198\"/>\n",
       "</g>\n",
       "<!-- 3 -->\n",
       "<g id=\"node12\" class=\"node\">\n",
       "<title>3</title>\n",
       "<path fill=\"#39e581\" fill-opacity=\"0.878431\" stroke=\"#000000\" d=\"M711.8256,-748C711.8256,-748 599.8668,-748 599.8668,-748 593.8668,-748 587.8668,-742 587.8668,-736 587.8668,-736 587.8668,-682 587.8668,-682 587.8668,-676 593.8668,-670 599.8668,-670 599.8668,-670 711.8256,-670 711.8256,-670 717.8256,-670 723.8256,-676 723.8256,-682 723.8256,-682 723.8256,-736 723.8256,-736 723.8256,-742 717.8256,-748 711.8256,-748\"/>\n",
       "<text text-anchor=\"start\" x=\"625.9287\" y=\"-733.8\" font-family=\"Helvetica,sans-Serif\" font-size=\"14.00\" fill=\"#000000\">X</text>\n",
       "<text text-anchor=\"start\" x=\"635.2666\" y=\"-733.8\" font-family=\"Helvetica,sans-Serif\" baseline-shift=\"sub\" font-size=\"14.00\" fill=\"#000000\">1</text>\n",
       "<text text-anchor=\"start\" x=\"643.0527\" y=\"-733.8\" font-family=\"Helvetica,sans-Serif\" font-size=\"14.00\" fill=\"#000000\"> ≤ 0.29</text>\n",
       "<text text-anchor=\"start\" x=\"610.8965\" y=\"-719.8\" font-family=\"Helvetica,sans-Serif\" font-size=\"14.00\" fill=\"#000000\">entropy = 0.51</text>\n",
       "<text text-anchor=\"start\" x=\"610.124\" y=\"-705.8\" font-family=\"Helvetica,sans-Serif\" font-size=\"14.00\" fill=\"#000000\">samples = 666</text>\n",
       "<text text-anchor=\"start\" x=\"596.1069\" y=\"-691.8\" font-family=\"Helvetica,sans-Serif\" font-size=\"14.00\" fill=\"#000000\">value = [1, 593, 72]</text>\n",
       "<text text-anchor=\"start\" x=\"602.7378\" y=\"-677.8\" font-family=\"Helvetica,sans-Serif\" font-size=\"14.00\" fill=\"#000000\">class = SoldSlow</text>\n",
       "</g>\n",
       "<!-- 2&#45;&gt;3 -->\n",
       "<g id=\"edge11\" class=\"edge\">\n",
       "<title>2&#45;&gt;3</title>\n",
       "<path fill=\"none\" stroke=\"#000000\" d=\"M655.8462,-783.7677C655.8462,-775.6172 655.8462,-766.9283 655.8462,-758.4649\"/>\n",
       "<polygon fill=\"#000000\" stroke=\"#000000\" points=\"659.3463,-758.3046 655.8462,-748.3046 652.3463,-758.3047 659.3463,-758.3046\"/>\n",
       "</g>\n",
       "<!-- 4 -->\n",
       "<g id=\"node33\" class=\"node\">\n",
       "<title>4</title>\n",
       "<path fill=\"#8139e5\" fill-opacity=\"0.596078\" stroke=\"#000000\" d=\"M965.5389,-748C965.5389,-748 862.1534,-748 862.1534,-748 856.1534,-748 850.1534,-742 850.1534,-736 850.1534,-736 850.1534,-682 850.1534,-682 850.1534,-676 856.1534,-670 862.1534,-670 862.1534,-670 965.5389,-670 965.5389,-670 971.5389,-670 977.5389,-676 977.5389,-682 977.5389,-682 977.5389,-736 977.5389,-736 977.5389,-742 971.5389,-748 965.5389,-748\"/>\n",
       "<text text-anchor=\"start\" x=\"880.0356\" y=\"-733.8\" font-family=\"Helvetica,sans-Serif\" font-size=\"14.00\" fill=\"#000000\">X</text>\n",
       "<text text-anchor=\"start\" x=\"889.3735\" y=\"-733.8\" font-family=\"Helvetica,sans-Serif\" baseline-shift=\"sub\" font-size=\"14.00\" fill=\"#000000\">1</text>\n",
       "<text text-anchor=\"start\" x=\"897.1597\" y=\"-733.8\" font-family=\"Helvetica,sans-Serif\" font-size=\"14.00\" fill=\"#000000\"> ≤ 1.013</text>\n",
       "<text text-anchor=\"start\" x=\"865.0034\" y=\"-719.8\" font-family=\"Helvetica,sans-Serif\" font-size=\"14.00\" fill=\"#000000\">entropy = 0.865</text>\n",
       "<text text-anchor=\"start\" x=\"872.0171\" y=\"-705.8\" font-family=\"Helvetica,sans-Serif\" font-size=\"14.00\" fill=\"#000000\">samples = 94</text>\n",
       "<text text-anchor=\"start\" x=\"858\" y=\"-691.8\" font-family=\"Helvetica,sans-Serif\" font-size=\"14.00\" fill=\"#000000\">value = [0, 27, 67]</text>\n",
       "<text text-anchor=\"start\" x=\"862.2964\" y=\"-677.8\" font-family=\"Helvetica,sans-Serif\" font-size=\"14.00\" fill=\"#000000\">class = SoldFast</text>\n",
       "</g>\n",
       "<!-- 2&#45;&gt;4 -->\n",
       "<g id=\"edge32\" class=\"edge\">\n",
       "<title>2&#45;&gt;4</title>\n",
       "<path fill=\"none\" stroke=\"#000000\" d=\"M727.7136,-791.2446C762.8894,-775.7019 805.1676,-757.0208 840.5347,-741.3935\"/>\n",
       "<polygon fill=\"#000000\" stroke=\"#000000\" points=\"842.1082,-744.5247 849.8405,-737.2816 839.279,-738.1219 842.1082,-744.5247\"/>\n",
       "</g>\n",
       "<!-- 5 -->\n",
       "<g id=\"node13\" class=\"node\">\n",
       "<title>5</title>\n",
       "<path fill=\"#39e581\" fill-opacity=\"0.670588\" stroke=\"#000000\" d=\"M677.8256,-634C677.8256,-634 565.8668,-634 565.8668,-634 559.8668,-634 553.8668,-628 553.8668,-622 553.8668,-622 553.8668,-568 553.8668,-568 553.8668,-562 559.8668,-556 565.8668,-556 565.8668,-556 677.8256,-556 677.8256,-556 683.8256,-556 689.8256,-562 689.8256,-568 689.8256,-568 689.8256,-622 689.8256,-622 689.8256,-628 683.8256,-634 677.8256,-634\"/>\n",
       "<text text-anchor=\"start\" x=\"591.9287\" y=\"-619.8\" font-family=\"Helvetica,sans-Serif\" font-size=\"14.00\" fill=\"#000000\">X</text>\n",
       "<text text-anchor=\"start\" x=\"601.2666\" y=\"-619.8\" font-family=\"Helvetica,sans-Serif\" baseline-shift=\"sub\" font-size=\"14.00\" fill=\"#000000\">81</text>\n",
       "<text text-anchor=\"start\" x=\"616.8389\" y=\"-619.8\" font-family=\"Helvetica,sans-Serif\" font-size=\"14.00\" fill=\"#000000\"> ≤ 0.5</text>\n",
       "<text text-anchor=\"start\" x=\"573.0034\" y=\"-605.8\" font-family=\"Helvetica,sans-Serif\" font-size=\"14.00\" fill=\"#000000\">entropy = 0.834</text>\n",
       "<text text-anchor=\"start\" x=\"576.124\" y=\"-591.8\" font-family=\"Helvetica,sans-Serif\" font-size=\"14.00\" fill=\"#000000\">samples = 294</text>\n",
       "<text text-anchor=\"start\" x=\"562.1069\" y=\"-577.8\" font-family=\"Helvetica,sans-Serif\" font-size=\"14.00\" fill=\"#000000\">value = [1, 221, 72]</text>\n",
       "<text text-anchor=\"start\" x=\"568.7378\" y=\"-563.8\" font-family=\"Helvetica,sans-Serif\" font-size=\"14.00\" fill=\"#000000\">class = SoldSlow</text>\n",
       "</g>\n",
       "<!-- 3&#45;&gt;5 -->\n",
       "<g id=\"edge12\" class=\"edge\">\n",
       "<title>3&#45;&gt;5</title>\n",
       "<path fill=\"none\" stroke=\"#000000\" d=\"M644.1453,-669.7677C641.6611,-661.4381 639.0091,-652.5461 636.4325,-643.9072\"/>\n",
       "<polygon fill=\"#000000\" stroke=\"#000000\" points=\"639.7808,-642.8872 633.5686,-634.3046 633.0727,-644.8879 639.7808,-642.8872\"/>\n",
       "</g>\n",
       "<!-- 6 -->\n",
       "<g id=\"node32\" class=\"node\">\n",
       "<title>6</title>\n",
       "<path fill=\"#39e581\" stroke=\"#000000\" d=\"M823.5389,-627C823.5389,-627 720.1534,-627 720.1534,-627 714.1534,-627 708.1534,-621 708.1534,-615 708.1534,-615 708.1534,-575 708.1534,-575 708.1534,-569 714.1534,-563 720.1534,-563 720.1534,-563 823.5389,-563 823.5389,-563 829.5389,-563 835.5389,-569 835.5389,-575 835.5389,-575 835.5389,-615 835.5389,-615 835.5389,-621 829.5389,-627 823.5389,-627\"/>\n",
       "<text text-anchor=\"start\" x=\"730.7896\" y=\"-611.8\" font-family=\"Helvetica,sans-Serif\" font-size=\"14.00\" fill=\"#000000\">entropy = 0.0</text>\n",
       "<text text-anchor=\"start\" x=\"726.124\" y=\"-597.8\" font-family=\"Helvetica,sans-Serif\" font-size=\"14.00\" fill=\"#000000\">samples = 372</text>\n",
       "<text text-anchor=\"start\" x=\"716\" y=\"-583.8\" font-family=\"Helvetica,sans-Serif\" font-size=\"14.00\" fill=\"#000000\">value = [0, 372, 0]</text>\n",
       "<text text-anchor=\"start\" x=\"718.7378\" y=\"-569.8\" font-family=\"Helvetica,sans-Serif\" font-size=\"14.00\" fill=\"#000000\">class = SoldSlow</text>\n",
       "</g>\n",
       "<!-- 3&#45;&gt;6 -->\n",
       "<g id=\"edge31\" class=\"edge\">\n",
       "<title>3&#45;&gt;6</title>\n",
       "<path fill=\"none\" stroke=\"#000000\" d=\"M695.7668,-669.7677C707.4896,-658.247 720.3073,-645.6503 732.024,-634.1356\"/>\n",
       "<polygon fill=\"#000000\" stroke=\"#000000\" points=\"734.4783,-636.6309 739.1574,-627.1252 729.5718,-631.6382 734.4783,-636.6309\"/>\n",
       "</g>\n",
       "<!-- 7 -->\n",
       "<g id=\"node14\" class=\"node\">\n",
       "<title>7</title>\n",
       "<path fill=\"#8139e5\" fill-opacity=\"0.698039\" stroke=\"#000000\" d=\"M673.5389,-520C673.5389,-520 570.1534,-520 570.1534,-520 564.1534,-520 558.1534,-514 558.1534,-508 558.1534,-508 558.1534,-454 558.1534,-454 558.1534,-448 564.1534,-442 570.1534,-442 570.1534,-442 673.5389,-442 673.5389,-442 679.5389,-442 685.5389,-448 685.5389,-454 685.5389,-454 685.5389,-508 685.5389,-508 685.5389,-514 679.5389,-520 673.5389,-520\"/>\n",
       "<text text-anchor=\"start\" x=\"591.9287\" y=\"-505.8\" font-family=\"Helvetica,sans-Serif\" font-size=\"14.00\" fill=\"#000000\">X</text>\n",
       "<text text-anchor=\"start\" x=\"601.2666\" y=\"-505.8\" font-family=\"Helvetica,sans-Serif\" baseline-shift=\"sub\" font-size=\"14.00\" fill=\"#000000\">85</text>\n",
       "<text text-anchor=\"start\" x=\"616.8389\" y=\"-505.8\" font-family=\"Helvetica,sans-Serif\" font-size=\"14.00\" fill=\"#000000\"> ≤ 0.5</text>\n",
       "<text text-anchor=\"start\" x=\"573.0034\" y=\"-491.8\" font-family=\"Helvetica,sans-Serif\" font-size=\"14.00\" fill=\"#000000\">entropy = 0.881</text>\n",
       "<text text-anchor=\"start\" x=\"580.0171\" y=\"-477.8\" font-family=\"Helvetica,sans-Serif\" font-size=\"14.00\" fill=\"#000000\">samples = 55</text>\n",
       "<text text-anchor=\"start\" x=\"566\" y=\"-463.8\" font-family=\"Helvetica,sans-Serif\" font-size=\"14.00\" fill=\"#000000\">value = [1, 12, 42]</text>\n",
       "<text text-anchor=\"start\" x=\"570.2964\" y=\"-449.8\" font-family=\"Helvetica,sans-Serif\" font-size=\"14.00\" fill=\"#000000\">class = SoldFast</text>\n",
       "</g>\n",
       "<!-- 5&#45;&gt;7 -->\n",
       "<g id=\"edge13\" class=\"edge\">\n",
       "<title>5&#45;&gt;7</title>\n",
       "<path fill=\"none\" stroke=\"#000000\" d=\"M621.8462,-555.7677C621.8462,-547.6172 621.8462,-538.9283 621.8462,-530.4649\"/>\n",
       "<polygon fill=\"#000000\" stroke=\"#000000\" points=\"625.3463,-530.3046 621.8462,-520.3046 618.3463,-530.3047 625.3463,-530.3046\"/>\n",
       "</g>\n",
       "<!-- 8 -->\n",
       "<g id=\"node21\" class=\"node\">\n",
       "<title>8</title>\n",
       "<path fill=\"#39e581\" fill-opacity=\"0.854902\" stroke=\"#000000\" d=\"M890.8256,-520C890.8256,-520 778.8668,-520 778.8668,-520 772.8668,-520 766.8668,-514 766.8668,-508 766.8668,-508 766.8668,-454 766.8668,-454 766.8668,-448 772.8668,-442 778.8668,-442 778.8668,-442 890.8256,-442 890.8256,-442 896.8256,-442 902.8256,-448 902.8256,-454 902.8256,-454 902.8256,-508 902.8256,-508 902.8256,-514 896.8256,-520 890.8256,-520\"/>\n",
       "<text text-anchor=\"start\" x=\"801.0356\" y=\"-505.8\" font-family=\"Helvetica,sans-Serif\" font-size=\"14.00\" fill=\"#000000\">X</text>\n",
       "<text text-anchor=\"start\" x=\"810.3735\" y=\"-505.8\" font-family=\"Helvetica,sans-Serif\" baseline-shift=\"sub\" font-size=\"14.00\" fill=\"#000000\">9</text>\n",
       "<text text-anchor=\"start\" x=\"818.1597\" y=\"-505.8\" font-family=\"Helvetica,sans-Serif\" font-size=\"14.00\" fill=\"#000000\"> ≤ 0.776</text>\n",
       "<text text-anchor=\"start\" x=\"786.0034\" y=\"-491.8\" font-family=\"Helvetica,sans-Serif\" font-size=\"14.00\" fill=\"#000000\">entropy = 0.545</text>\n",
       "<text text-anchor=\"start\" x=\"789.124\" y=\"-477.8\" font-family=\"Helvetica,sans-Serif\" font-size=\"14.00\" fill=\"#000000\">samples = 239</text>\n",
       "<text text-anchor=\"start\" x=\"775.1069\" y=\"-463.8\" font-family=\"Helvetica,sans-Serif\" font-size=\"14.00\" fill=\"#000000\">value = [0, 209, 30]</text>\n",
       "<text text-anchor=\"start\" x=\"781.7378\" y=\"-449.8\" font-family=\"Helvetica,sans-Serif\" font-size=\"14.00\" fill=\"#000000\">class = SoldSlow</text>\n",
       "</g>\n",
       "<!-- 5&#45;&gt;8 -->\n",
       "<g id=\"edge20\" class=\"edge\">\n",
       "<title>5&#45;&gt;8</title>\n",
       "<path fill=\"none\" stroke=\"#000000\" d=\"M689.8264,-558.6163C711.4417,-547.0475 735.5037,-534.1692 757.7165,-522.2807\"/>\n",
       "<polygon fill=\"#000000\" stroke=\"#000000\" points=\"759.6162,-525.2338 766.7813,-517.4291 756.313,-519.0621 759.6162,-525.2338\"/>\n",
       "</g>\n",
       "<!-- 19 -->\n",
       "<g id=\"node15\" class=\"node\">\n",
       "<title>19</title>\n",
       "<path fill=\"#8139e5\" fill-opacity=\"0.917647\" stroke=\"#000000\" d=\"M528.7525,-399C528.7525,-399 432.9399,-399 432.9399,-399 426.9399,-399 420.9399,-393 420.9399,-387 420.9399,-387 420.9399,-347 420.9399,-347 420.9399,-341 426.9399,-335 432.9399,-335 432.9399,-335 528.7525,-335 528.7525,-335 534.7525,-335 540.7525,-341 540.7525,-347 540.7525,-347 540.7525,-387 540.7525,-387 540.7525,-393 534.7525,-399 528.7525,-399\"/>\n",
       "<text text-anchor=\"start\" x=\"432.0034\" y=\"-383.8\" font-family=\"Helvetica,sans-Serif\" font-size=\"14.00\" fill=\"#000000\">entropy = 0.482</text>\n",
       "<text text-anchor=\"start\" x=\"439.0171\" y=\"-369.8\" font-family=\"Helvetica,sans-Serif\" font-size=\"14.00\" fill=\"#000000\">samples = 25</text>\n",
       "<text text-anchor=\"start\" x=\"428.8931\" y=\"-355.8\" font-family=\"Helvetica,sans-Serif\" font-size=\"14.00\" fill=\"#000000\">value = [1, 1, 23]</text>\n",
       "<text text-anchor=\"start\" x=\"429.2964\" y=\"-341.8\" font-family=\"Helvetica,sans-Serif\" font-size=\"14.00\" fill=\"#000000\">class = SoldFast</text>\n",
       "</g>\n",
       "<!-- 7&#45;&gt;19 -->\n",
       "<g id=\"edge14\" class=\"edge\">\n",
       "<title>7&#45;&gt;19</title>\n",
       "<path fill=\"none\" stroke=\"#000000\" d=\"M573.322,-441.7677C558.8038,-430.0296 542.9042,-417.1745 528.446,-405.485\"/>\n",
       "<polygon fill=\"#000000\" stroke=\"#000000\" points=\"530.5569,-402.6907 520.58,-399.1252 526.1558,-408.1342 530.5569,-402.6907\"/>\n",
       "</g>\n",
       "<!-- 20 -->\n",
       "<g id=\"node16\" class=\"node\">\n",
       "<title>20</title>\n",
       "<path fill=\"#8139e5\" fill-opacity=\"0.419608\" stroke=\"#000000\" d=\"M673.0068,-406C673.0068,-406 570.6856,-406 570.6856,-406 564.6856,-406 558.6856,-400 558.6856,-394 558.6856,-394 558.6856,-340 558.6856,-340 558.6856,-334 564.6856,-328 570.6856,-328 570.6856,-328 673.0068,-328 673.0068,-328 679.0068,-328 685.0068,-334 685.0068,-340 685.0068,-340 685.0068,-394 685.0068,-394 685.0068,-400 679.0068,-406 673.0068,-406\"/>\n",
       "<text text-anchor=\"start\" x=\"589.5977\" y=\"-391.8\" font-family=\"Helvetica,sans-Serif\" font-size=\"14.00\" fill=\"#000000\">X</text>\n",
       "<text text-anchor=\"start\" x=\"598.9355\" y=\"-391.8\" font-family=\"Helvetica,sans-Serif\" baseline-shift=\"sub\" font-size=\"14.00\" fill=\"#000000\">9</text>\n",
       "<text text-anchor=\"start\" x=\"606.7217\" y=\"-391.8\" font-family=\"Helvetica,sans-Serif\" font-size=\"14.00\" fill=\"#000000\"> ≤ &#45;0.55</text>\n",
       "<text text-anchor=\"start\" x=\"573.0034\" y=\"-377.8\" font-family=\"Helvetica,sans-Serif\" font-size=\"14.00\" fill=\"#000000\">entropy = 0.948</text>\n",
       "<text text-anchor=\"start\" x=\"580.0171\" y=\"-363.8\" font-family=\"Helvetica,sans-Serif\" font-size=\"14.00\" fill=\"#000000\">samples = 30</text>\n",
       "<text text-anchor=\"start\" x=\"566.5161\" y=\"-349.8\" font-family=\"Helvetica,sans-Serif\" font-size=\"14.00\" fill=\"#000000\">value = [0, 11, 19]</text>\n",
       "<text text-anchor=\"start\" x=\"570.2964\" y=\"-335.8\" font-family=\"Helvetica,sans-Serif\" font-size=\"14.00\" fill=\"#000000\">class = SoldFast</text>\n",
       "</g>\n",
       "<!-- 7&#45;&gt;20 -->\n",
       "<g id=\"edge15\" class=\"edge\">\n",
       "<title>7&#45;&gt;20</title>\n",
       "<path fill=\"none\" stroke=\"#000000\" d=\"M621.8462,-441.7677C621.8462,-433.6172 621.8462,-424.9283 621.8462,-416.4649\"/>\n",
       "<polygon fill=\"#000000\" stroke=\"#000000\" points=\"625.3463,-416.3046 621.8462,-406.3046 618.3463,-416.3047 625.3463,-416.3046\"/>\n",
       "</g>\n",
       "<!-- 21 -->\n",
       "<g id=\"node17\" class=\"node\">\n",
       "<title>21</title>\n",
       "<path fill=\"#8139e5\" fill-opacity=\"0.843137\" stroke=\"#000000\" d=\"M530.7525,-292C530.7525,-292 434.9399,-292 434.9399,-292 428.9399,-292 422.9399,-286 422.9399,-280 422.9399,-280 422.9399,-226 422.9399,-226 422.9399,-220 428.9399,-214 434.9399,-214 434.9399,-214 530.7525,-214 530.7525,-214 536.7525,-214 542.7525,-220 542.7525,-226 542.7525,-226 542.7525,-280 542.7525,-280 542.7525,-286 536.7525,-292 530.7525,-292\"/>\n",
       "<text text-anchor=\"start\" x=\"452.9287\" y=\"-277.8\" font-family=\"Helvetica,sans-Serif\" font-size=\"14.00\" fill=\"#000000\">X</text>\n",
       "<text text-anchor=\"start\" x=\"462.2666\" y=\"-277.8\" font-family=\"Helvetica,sans-Serif\" baseline-shift=\"sub\" font-size=\"14.00\" fill=\"#000000\">88</text>\n",
       "<text text-anchor=\"start\" x=\"477.8389\" y=\"-277.8\" font-family=\"Helvetica,sans-Serif\" font-size=\"14.00\" fill=\"#000000\"> ≤ 0.5</text>\n",
       "<text text-anchor=\"start\" x=\"434.0034\" y=\"-263.8\" font-family=\"Helvetica,sans-Serif\" font-size=\"14.00\" fill=\"#000000\">entropy = 0.575</text>\n",
       "<text text-anchor=\"start\" x=\"441.0171\" y=\"-249.8\" font-family=\"Helvetica,sans-Serif\" font-size=\"14.00\" fill=\"#000000\">samples = 22</text>\n",
       "<text text-anchor=\"start\" x=\"430.8931\" y=\"-235.8\" font-family=\"Helvetica,sans-Serif\" font-size=\"14.00\" fill=\"#000000\">value = [0, 3, 19]</text>\n",
       "<text text-anchor=\"start\" x=\"431.2964\" y=\"-221.8\" font-family=\"Helvetica,sans-Serif\" font-size=\"14.00\" fill=\"#000000\">class = SoldFast</text>\n",
       "</g>\n",
       "<!-- 20&#45;&gt;21 -->\n",
       "<g id=\"edge16\" class=\"edge\">\n",
       "<title>20&#45;&gt;21</title>\n",
       "<path fill=\"none\" stroke=\"#000000\" d=\"M574.0103,-327.7677C562.6528,-318.4529 550.4376,-308.4347 538.7556,-298.8538\"/>\n",
       "<polygon fill=\"#000000\" stroke=\"#000000\" points=\"540.722,-295.9399 530.7703,-292.3046 536.2829,-301.3524 540.722,-295.9399\"/>\n",
       "</g>\n",
       "<!-- 22 -->\n",
       "<g id=\"node20\" class=\"node\">\n",
       "<title>22</title>\n",
       "<path fill=\"#39e581\" stroke=\"#000000\" d=\"M671.0632,-285C671.0632,-285 572.6292,-285 572.6292,-285 566.6292,-285 560.6292,-279 560.6292,-273 560.6292,-273 560.6292,-233 560.6292,-233 560.6292,-227 566.6292,-221 572.6292,-221 572.6292,-221 671.0632,-221 671.0632,-221 677.0632,-221 683.0632,-227 683.0632,-233 683.0632,-233 683.0632,-273 683.0632,-273 683.0632,-279 677.0632,-285 671.0632,-285\"/>\n",
       "<text text-anchor=\"start\" x=\"580.7896\" y=\"-269.8\" font-family=\"Helvetica,sans-Serif\" font-size=\"14.00\" fill=\"#000000\">entropy = 0.0</text>\n",
       "<text text-anchor=\"start\" x=\"583.9102\" y=\"-255.8\" font-family=\"Helvetica,sans-Serif\" font-size=\"14.00\" fill=\"#000000\">samples = 8</text>\n",
       "<text text-anchor=\"start\" x=\"573.7861\" y=\"-241.8\" font-family=\"Helvetica,sans-Serif\" font-size=\"14.00\" fill=\"#000000\">value = [0, 8, 0]</text>\n",
       "<text text-anchor=\"start\" x=\"568.7378\" y=\"-227.8\" font-family=\"Helvetica,sans-Serif\" font-size=\"14.00\" fill=\"#000000\">class = SoldSlow</text>\n",
       "</g>\n",
       "<!-- 20&#45;&gt;22 -->\n",
       "<g id=\"edge19\" class=\"edge\">\n",
       "<title>20&#45;&gt;22</title>\n",
       "<path fill=\"none\" stroke=\"#000000\" d=\"M621.8462,-327.7677C621.8462,-317.3338 621.8462,-306.0174 621.8462,-295.4215\"/>\n",
       "<polygon fill=\"#000000\" stroke=\"#000000\" points=\"625.3463,-295.1252 621.8462,-285.1252 618.3463,-295.1252 625.3463,-295.1252\"/>\n",
       "</g>\n",
       "<!-- 25 -->\n",
       "<g id=\"node18\" class=\"node\">\n",
       "<title>25</title>\n",
       "<path fill=\"#39e581\" fill-opacity=\"0.333333\" stroke=\"#000000\" d=\"M531.0632,-171C531.0632,-171 432.6292,-171 432.6292,-171 426.6292,-171 420.6292,-165 420.6292,-159 420.6292,-159 420.6292,-119 420.6292,-119 420.6292,-113 426.6292,-107 432.6292,-107 432.6292,-107 531.0632,-107 531.0632,-107 537.0632,-107 543.0632,-113 543.0632,-119 543.0632,-119 543.0632,-159 543.0632,-159 543.0632,-165 537.0632,-171 531.0632,-171\"/>\n",
       "<text text-anchor=\"start\" x=\"433.0034\" y=\"-155.8\" font-family=\"Helvetica,sans-Serif\" font-size=\"14.00\" fill=\"#000000\">entropy = 0.971</text>\n",
       "<text text-anchor=\"start\" x=\"443.9102\" y=\"-141.8\" font-family=\"Helvetica,sans-Serif\" font-size=\"14.00\" fill=\"#000000\">samples = 5</text>\n",
       "<text text-anchor=\"start\" x=\"433.7861\" y=\"-127.8\" font-family=\"Helvetica,sans-Serif\" font-size=\"14.00\" fill=\"#000000\">value = [0, 3, 2]</text>\n",
       "<text text-anchor=\"start\" x=\"428.7378\" y=\"-113.8\" font-family=\"Helvetica,sans-Serif\" font-size=\"14.00\" fill=\"#000000\">class = SoldSlow</text>\n",
       "</g>\n",
       "<!-- 21&#45;&gt;25 -->\n",
       "<g id=\"edge17\" class=\"edge\">\n",
       "<title>21&#45;&gt;25</title>\n",
       "<path fill=\"none\" stroke=\"#000000\" d=\"M482.502,-213.7677C482.4105,-203.3338 482.3113,-192.0174 482.2183,-181.4215\"/>\n",
       "<polygon fill=\"#000000\" stroke=\"#000000\" points=\"485.7157,-181.0941 482.128,-171.1252 478.7159,-181.1555 485.7157,-181.0941\"/>\n",
       "</g>\n",
       "<!-- 26 -->\n",
       "<g id=\"node19\" class=\"node\">\n",
       "<title>26</title>\n",
       "<path fill=\"#8139e5\" stroke=\"#000000\" d=\"M668.7525,-171C668.7525,-171 572.9399,-171 572.9399,-171 566.9399,-171 560.9399,-165 560.9399,-159 560.9399,-159 560.9399,-119 560.9399,-119 560.9399,-113 566.9399,-107 572.9399,-107 572.9399,-107 668.7525,-107 668.7525,-107 674.7525,-107 680.7525,-113 680.7525,-119 680.7525,-119 680.7525,-159 680.7525,-159 680.7525,-165 674.7525,-171 668.7525,-171\"/>\n",
       "<text text-anchor=\"start\" x=\"579.7896\" y=\"-155.8\" font-family=\"Helvetica,sans-Serif\" font-size=\"14.00\" fill=\"#000000\">entropy = 0.0</text>\n",
       "<text text-anchor=\"start\" x=\"579.0171\" y=\"-141.8\" font-family=\"Helvetica,sans-Serif\" font-size=\"14.00\" fill=\"#000000\">samples = 17</text>\n",
       "<text text-anchor=\"start\" x=\"568.8931\" y=\"-127.8\" font-family=\"Helvetica,sans-Serif\" font-size=\"14.00\" fill=\"#000000\">value = [0, 0, 17]</text>\n",
       "<text text-anchor=\"start\" x=\"569.2964\" y=\"-113.8\" font-family=\"Helvetica,sans-Serif\" font-size=\"14.00\" fill=\"#000000\">class = SoldFast</text>\n",
       "</g>\n",
       "<!-- 21&#45;&gt;26 -->\n",
       "<g id=\"edge18\" class=\"edge\">\n",
       "<title>21&#45;&gt;26</title>\n",
       "<path fill=\"none\" stroke=\"#000000\" d=\"M530.338,-213.7677C544.4157,-202.1383 559.8205,-189.4125 573.8657,-177.81\"/>\n",
       "<polygon fill=\"#000000\" stroke=\"#000000\" points=\"576.4773,-180.1924 581.9578,-171.1252 572.0191,-174.7957 576.4773,-180.1924\"/>\n",
       "</g>\n",
       "<!-- 9 -->\n",
       "<g id=\"node22\" class=\"node\">\n",
       "<title>9</title>\n",
       "<path fill=\"#39e581\" fill-opacity=\"0.941176\" stroke=\"#000000\" d=\"M890.8256,-406C890.8256,-406 778.8668,-406 778.8668,-406 772.8668,-406 766.8668,-400 766.8668,-394 766.8668,-394 766.8668,-340 766.8668,-340 766.8668,-334 772.8668,-328 778.8668,-328 778.8668,-328 890.8256,-328 890.8256,-328 896.8256,-328 902.8256,-334 902.8256,-340 902.8256,-340 902.8256,-394 902.8256,-394 902.8256,-400 896.8256,-406 890.8256,-406\"/>\n",
       "<text text-anchor=\"start\" x=\"798.7046\" y=\"-391.8\" font-family=\"Helvetica,sans-Serif\" font-size=\"14.00\" fill=\"#000000\">X</text>\n",
       "<text text-anchor=\"start\" x=\"808.0425\" y=\"-391.8\" font-family=\"Helvetica,sans-Serif\" baseline-shift=\"sub\" font-size=\"14.00\" fill=\"#000000\">9</text>\n",
       "<text text-anchor=\"start\" x=\"815.8286\" y=\"-391.8\" font-family=\"Helvetica,sans-Serif\" font-size=\"14.00\" fill=\"#000000\"> ≤ &#45;1.147</text>\n",
       "<text text-anchor=\"start\" x=\"786.0034\" y=\"-377.8\" font-family=\"Helvetica,sans-Serif\" font-size=\"14.00\" fill=\"#000000\">entropy = 0.306</text>\n",
       "<text text-anchor=\"start\" x=\"789.124\" y=\"-363.8\" font-family=\"Helvetica,sans-Serif\" font-size=\"14.00\" fill=\"#000000\">samples = 219</text>\n",
       "<text text-anchor=\"start\" x=\"775.1069\" y=\"-349.8\" font-family=\"Helvetica,sans-Serif\" font-size=\"14.00\" fill=\"#000000\">value = [0, 207, 12]</text>\n",
       "<text text-anchor=\"start\" x=\"781.7378\" y=\"-335.8\" font-family=\"Helvetica,sans-Serif\" font-size=\"14.00\" fill=\"#000000\">class = SoldSlow</text>\n",
       "</g>\n",
       "<!-- 8&#45;&gt;9 -->\n",
       "<g id=\"edge21\" class=\"edge\">\n",
       "<title>8&#45;&gt;9</title>\n",
       "<path fill=\"none\" stroke=\"#000000\" d=\"M834.8462,-441.7677C834.8462,-433.6172 834.8462,-424.9283 834.8462,-416.4649\"/>\n",
       "<polygon fill=\"#000000\" stroke=\"#000000\" points=\"838.3463,-416.3046 834.8462,-406.3046 831.3463,-416.3047 838.3463,-416.3046\"/>\n",
       "</g>\n",
       "<!-- 10 -->\n",
       "<g id=\"node29\" class=\"node\">\n",
       "<title>10</title>\n",
       "<path fill=\"#8139e5\" fill-opacity=\"0.890196\" stroke=\"#000000\" d=\"M1090.7525,-406C1090.7525,-406 994.9399,-406 994.9399,-406 988.9399,-406 982.9399,-400 982.9399,-394 982.9399,-394 982.9399,-340 982.9399,-340 982.9399,-334 988.9399,-328 994.9399,-328 994.9399,-328 1090.7525,-328 1090.7525,-328 1096.7525,-328 1102.7525,-334 1102.7525,-340 1102.7525,-340 1102.7525,-394 1102.7525,-394 1102.7525,-400 1096.7525,-406 1090.7525,-406\"/>\n",
       "<text text-anchor=\"start\" x=\"1009.0356\" y=\"-391.8\" font-family=\"Helvetica,sans-Serif\" font-size=\"14.00\" fill=\"#000000\">X</text>\n",
       "<text text-anchor=\"start\" x=\"1018.3735\" y=\"-391.8\" font-family=\"Helvetica,sans-Serif\" baseline-shift=\"sub\" font-size=\"14.00\" fill=\"#000000\">0</text>\n",
       "<text text-anchor=\"start\" x=\"1026.1597\" y=\"-391.8\" font-family=\"Helvetica,sans-Serif\" font-size=\"14.00\" fill=\"#000000\"> ≤ 0.004</text>\n",
       "<text text-anchor=\"start\" x=\"994.0034\" y=\"-377.8\" font-family=\"Helvetica,sans-Serif\" font-size=\"14.00\" fill=\"#000000\">entropy = 0.469</text>\n",
       "<text text-anchor=\"start\" x=\"1001.0171\" y=\"-363.8\" font-family=\"Helvetica,sans-Serif\" font-size=\"14.00\" fill=\"#000000\">samples = 20</text>\n",
       "<text text-anchor=\"start\" x=\"990.8931\" y=\"-349.8\" font-family=\"Helvetica,sans-Serif\" font-size=\"14.00\" fill=\"#000000\">value = [0, 2, 18]</text>\n",
       "<text text-anchor=\"start\" x=\"991.2964\" y=\"-335.8\" font-family=\"Helvetica,sans-Serif\" font-size=\"14.00\" fill=\"#000000\">class = SoldFast</text>\n",
       "</g>\n",
       "<!-- 8&#45;&gt;10 -->\n",
       "<g id=\"edge28\" class=\"edge\">\n",
       "<title>8&#45;&gt;10</title>\n",
       "<path fill=\"none\" stroke=\"#000000\" d=\"M902.6654,-443.8299C925.481,-431.3252 950.9506,-417.3658 973.8554,-404.8123\"/>\n",
       "<polygon fill=\"#000000\" stroke=\"#000000\" points=\"975.7419,-407.7696 982.829,-399.894 972.3775,-401.6311 975.7419,-407.7696\"/>\n",
       "</g>\n",
       "<!-- 11 -->\n",
       "<g id=\"node23\" class=\"node\">\n",
       "<title>11</title>\n",
       "<path fill=\"#8139e5\" stroke=\"#000000\" d=\"M808.4458,-285C808.4458,-285 713.2465,-285 713.2465,-285 707.2465,-285 701.2465,-279 701.2465,-273 701.2465,-273 701.2465,-233 701.2465,-233 701.2465,-227 707.2465,-221 713.2465,-221 713.2465,-221 808.4458,-221 808.4458,-221 814.4458,-221 820.4458,-227 820.4458,-233 820.4458,-233 820.4458,-273 820.4458,-273 820.4458,-279 814.4458,-285 808.4458,-285\"/>\n",
       "<text text-anchor=\"start\" x=\"719.7896\" y=\"-269.8\" font-family=\"Helvetica,sans-Serif\" font-size=\"14.00\" fill=\"#000000\">entropy = 0.0</text>\n",
       "<text text-anchor=\"start\" x=\"722.9102\" y=\"-255.8\" font-family=\"Helvetica,sans-Serif\" font-size=\"14.00\" fill=\"#000000\">samples = 9</text>\n",
       "<text text-anchor=\"start\" x=\"712.7861\" y=\"-241.8\" font-family=\"Helvetica,sans-Serif\" font-size=\"14.00\" fill=\"#000000\">value = [0, 0, 9]</text>\n",
       "<text text-anchor=\"start\" x=\"709.2964\" y=\"-227.8\" font-family=\"Helvetica,sans-Serif\" font-size=\"14.00\" fill=\"#000000\">class = SoldFast</text>\n",
       "</g>\n",
       "<!-- 9&#45;&gt;11 -->\n",
       "<g id=\"edge22\" class=\"edge\">\n",
       "<title>9&#45;&gt;11</title>\n",
       "<path fill=\"none\" stroke=\"#000000\" d=\"M809.3796,-327.7677C802.254,-316.7904 794.4943,-304.8362 787.3122,-293.772\"/>\n",
       "<polygon fill=\"#000000\" stroke=\"#000000\" points=\"790.0799,-291.6073 781.6994,-285.1252 784.2084,-295.4187 790.0799,-291.6073\"/>\n",
       "</g>\n",
       "<!-- 12 -->\n",
       "<g id=\"node24\" class=\"node\">\n",
       "<title>12</title>\n",
       "<path fill=\"#39e581\" fill-opacity=\"0.984314\" stroke=\"#000000\" d=\"M953.5389,-292C953.5389,-292 850.1534,-292 850.1534,-292 844.1534,-292 838.1534,-286 838.1534,-280 838.1534,-280 838.1534,-226 838.1534,-226 838.1534,-220 844.1534,-214 850.1534,-214 850.1534,-214 953.5389,-214 953.5389,-214 959.5389,-214 965.5389,-220 965.5389,-226 965.5389,-226 965.5389,-280 965.5389,-280 965.5389,-286 959.5389,-292 953.5389,-292\"/>\n",
       "<text text-anchor=\"start\" x=\"865.7046\" y=\"-277.8\" font-family=\"Helvetica,sans-Serif\" font-size=\"14.00\" fill=\"#000000\">X</text>\n",
       "<text text-anchor=\"start\" x=\"875.0425\" y=\"-277.8\" font-family=\"Helvetica,sans-Serif\" baseline-shift=\"sub\" font-size=\"14.00\" fill=\"#000000\">9</text>\n",
       "<text text-anchor=\"start\" x=\"882.8286\" y=\"-277.8\" font-family=\"Helvetica,sans-Serif\" font-size=\"14.00\" fill=\"#000000\"> ≤ &#45;0.655</text>\n",
       "<text text-anchor=\"start\" x=\"853.0034\" y=\"-263.8\" font-family=\"Helvetica,sans-Serif\" font-size=\"14.00\" fill=\"#000000\">entropy = 0.108</text>\n",
       "<text text-anchor=\"start\" x=\"856.124\" y=\"-249.8\" font-family=\"Helvetica,sans-Serif\" font-size=\"14.00\" fill=\"#000000\">samples = 210</text>\n",
       "<text text-anchor=\"start\" x=\"846\" y=\"-235.8\" font-family=\"Helvetica,sans-Serif\" font-size=\"14.00\" fill=\"#000000\">value = [0, 207, 3]</text>\n",
       "<text text-anchor=\"start\" x=\"848.7378\" y=\"-221.8\" font-family=\"Helvetica,sans-Serif\" font-size=\"14.00\" fill=\"#000000\">class = SoldSlow</text>\n",
       "</g>\n",
       "<!-- 9&#45;&gt;12 -->\n",
       "<g id=\"edge23\" class=\"edge\">\n",
       "<title>9&#45;&gt;12</title>\n",
       "<path fill=\"none\" stroke=\"#000000\" d=\"M857.9038,-327.7677C862.9572,-319.1694 868.3628,-309.9718 873.5934,-301.072\"/>\n",
       "<polygon fill=\"#000000\" stroke=\"#000000\" points=\"876.6966,-302.6994 878.7461,-292.3046 870.6617,-299.1525 876.6966,-302.6994\"/>\n",
       "</g>\n",
       "<!-- 27 -->\n",
       "<g id=\"node25\" class=\"node\">\n",
       "<title>27</title>\n",
       "<path fill=\"#39e581\" fill-opacity=\"0.913725\" stroke=\"#000000\" d=\"M880.0632,-178C880.0632,-178 781.6292,-178 781.6292,-178 775.6292,-178 769.6292,-172 769.6292,-166 769.6292,-166 769.6292,-112 769.6292,-112 769.6292,-106 775.6292,-100 781.6292,-100 781.6292,-100 880.0632,-100 880.0632,-100 886.0632,-100 892.0632,-106 892.0632,-112 892.0632,-112 892.0632,-166 892.0632,-166 892.0632,-172 886.0632,-178 880.0632,-178\"/>\n",
       "<text text-anchor=\"start\" x=\"797.0356\" y=\"-163.8\" font-family=\"Helvetica,sans-Serif\" font-size=\"14.00\" fill=\"#000000\">X</text>\n",
       "<text text-anchor=\"start\" x=\"806.3735\" y=\"-163.8\" font-family=\"Helvetica,sans-Serif\" baseline-shift=\"sub\" font-size=\"14.00\" fill=\"#000000\">3</text>\n",
       "<text text-anchor=\"start\" x=\"814.1597\" y=\"-163.8\" font-family=\"Helvetica,sans-Serif\" font-size=\"14.00\" fill=\"#000000\"> ≤ 0.206</text>\n",
       "<text text-anchor=\"start\" x=\"782.0034\" y=\"-149.8\" font-family=\"Helvetica,sans-Serif\" font-size=\"14.00\" fill=\"#000000\">entropy = 0.398</text>\n",
       "<text text-anchor=\"start\" x=\"789.0171\" y=\"-135.8\" font-family=\"Helvetica,sans-Serif\" font-size=\"14.00\" fill=\"#000000\">samples = 38</text>\n",
       "<text text-anchor=\"start\" x=\"778.8931\" y=\"-121.8\" font-family=\"Helvetica,sans-Serif\" font-size=\"14.00\" fill=\"#000000\">value = [0, 35, 3]</text>\n",
       "<text text-anchor=\"start\" x=\"777.7378\" y=\"-107.8\" font-family=\"Helvetica,sans-Serif\" font-size=\"14.00\" fill=\"#000000\">class = SoldSlow</text>\n",
       "</g>\n",
       "<!-- 12&#45;&gt;27 -->\n",
       "<g id=\"edge24\" class=\"edge\">\n",
       "<title>12&#45;&gt;27</title>\n",
       "<path fill=\"none\" stroke=\"#000000\" d=\"M877.412,-213.7677C872.0012,-205.0798 866.2092,-195.7801 860.6126,-186.794\"/>\n",
       "<polygon fill=\"#000000\" stroke=\"#000000\" points=\"863.583,-184.9427 855.3254,-178.3046 857.6411,-188.6433 863.583,-184.9427\"/>\n",
       "</g>\n",
       "<!-- 28 -->\n",
       "<g id=\"node28\" class=\"node\">\n",
       "<title>28</title>\n",
       "<path fill=\"#39e581\" stroke=\"#000000\" d=\"M1025.5389,-171C1025.5389,-171 922.1534,-171 922.1534,-171 916.1534,-171 910.1534,-165 910.1534,-159 910.1534,-159 910.1534,-119 910.1534,-119 910.1534,-113 916.1534,-107 922.1534,-107 922.1534,-107 1025.5389,-107 1025.5389,-107 1031.5389,-107 1037.5389,-113 1037.5389,-119 1037.5389,-119 1037.5389,-159 1037.5389,-159 1037.5389,-165 1031.5389,-171 1025.5389,-171\"/>\n",
       "<text text-anchor=\"start\" x=\"932.7896\" y=\"-155.8\" font-family=\"Helvetica,sans-Serif\" font-size=\"14.00\" fill=\"#000000\">entropy = 0.0</text>\n",
       "<text text-anchor=\"start\" x=\"928.124\" y=\"-141.8\" font-family=\"Helvetica,sans-Serif\" font-size=\"14.00\" fill=\"#000000\">samples = 172</text>\n",
       "<text text-anchor=\"start\" x=\"918\" y=\"-127.8\" font-family=\"Helvetica,sans-Serif\" font-size=\"14.00\" fill=\"#000000\">value = [0, 172, 0]</text>\n",
       "<text text-anchor=\"start\" x=\"920.7378\" y=\"-113.8\" font-family=\"Helvetica,sans-Serif\" font-size=\"14.00\" fill=\"#000000\">class = SoldSlow</text>\n",
       "</g>\n",
       "<!-- 12&#45;&gt;28 -->\n",
       "<g id=\"edge27\" class=\"edge\">\n",
       "<title>12&#45;&gt;28</title>\n",
       "<path fill=\"none\" stroke=\"#000000\" d=\"M926.6245,-213.7677C933.5575,-202.7904 941.1075,-190.8362 948.0954,-179.772\"/>\n",
       "<polygon fill=\"#000000\" stroke=\"#000000\" points=\"951.1758,-181.4491 953.5566,-171.1252 945.2574,-177.7111 951.1758,-181.4491\"/>\n",
       "</g>\n",
       "<!-- 33 -->\n",
       "<g id=\"node26\" class=\"node\">\n",
       "<title>33</title>\n",
       "<path fill=\"#39e581\" stroke=\"#000000\" d=\"M810.0632,-64C810.0632,-64 711.6292,-64 711.6292,-64 705.6292,-64 699.6292,-58 699.6292,-52 699.6292,-52 699.6292,-12 699.6292,-12 699.6292,-6 705.6292,0 711.6292,0 711.6292,0 810.0632,0 810.0632,0 816.0632,0 822.0632,-6 822.0632,-12 822.0632,-12 822.0632,-52 822.0632,-52 822.0632,-58 816.0632,-64 810.0632,-64\"/>\n",
       "<text text-anchor=\"start\" x=\"719.7896\" y=\"-48.8\" font-family=\"Helvetica,sans-Serif\" font-size=\"14.00\" fill=\"#000000\">entropy = 0.0</text>\n",
       "<text text-anchor=\"start\" x=\"719.0171\" y=\"-34.8\" font-family=\"Helvetica,sans-Serif\" font-size=\"14.00\" fill=\"#000000\">samples = 28</text>\n",
       "<text text-anchor=\"start\" x=\"708.8931\" y=\"-20.8\" font-family=\"Helvetica,sans-Serif\" font-size=\"14.00\" fill=\"#000000\">value = [0, 28, 0]</text>\n",
       "<text text-anchor=\"start\" x=\"707.7378\" y=\"-6.8\" font-family=\"Helvetica,sans-Serif\" font-size=\"14.00\" fill=\"#000000\">class = SoldSlow</text>\n",
       "</g>\n",
       "<!-- 27&#45;&gt;33 -->\n",
       "<g id=\"edge25\" class=\"edge\">\n",
       "<title>27&#45;&gt;33</title>\n",
       "<path fill=\"none\" stroke=\"#000000\" d=\"M805.1783,-99.7647C799.4424,-90.9971 793.3458,-81.678 787.5684,-72.8469\"/>\n",
       "<polygon fill=\"#000000\" stroke=\"#000000\" points=\"790.3262,-70.6691 781.9227,-64.2169 784.4684,-74.5013 790.3262,-70.6691\"/>\n",
       "</g>\n",
       "<!-- 34 -->\n",
       "<g id=\"node27\" class=\"node\">\n",
       "<title>34</title>\n",
       "<path fill=\"#39e581\" fill-opacity=\"0.572549\" stroke=\"#000000\" d=\"M950.0632,-64C950.0632,-64 851.6292,-64 851.6292,-64 845.6292,-64 839.6292,-58 839.6292,-52 839.6292,-52 839.6292,-12 839.6292,-12 839.6292,-6 845.6292,0 851.6292,0 851.6292,0 950.0632,0 950.0632,0 956.0632,0 962.0632,-6 962.0632,-12 962.0632,-12 962.0632,-52 962.0632,-52 962.0632,-58 956.0632,-64 950.0632,-64\"/>\n",
       "<text text-anchor=\"start\" x=\"852.0034\" y=\"-48.8\" font-family=\"Helvetica,sans-Serif\" font-size=\"14.00\" fill=\"#000000\">entropy = 0.881</text>\n",
       "<text text-anchor=\"start\" x=\"859.0171\" y=\"-34.8\" font-family=\"Helvetica,sans-Serif\" font-size=\"14.00\" fill=\"#000000\">samples = 10</text>\n",
       "<text text-anchor=\"start\" x=\"852.7861\" y=\"-20.8\" font-family=\"Helvetica,sans-Serif\" font-size=\"14.00\" fill=\"#000000\">value = [0, 7, 3]</text>\n",
       "<text text-anchor=\"start\" x=\"847.7378\" y=\"-6.8\" font-family=\"Helvetica,sans-Serif\" font-size=\"14.00\" fill=\"#000000\">class = SoldSlow</text>\n",
       "</g>\n",
       "<!-- 27&#45;&gt;34 -->\n",
       "<g id=\"edge26\" class=\"edge\">\n",
       "<title>27&#45;&gt;34</title>\n",
       "<path fill=\"none\" stroke=\"#000000\" d=\"M856.5141,-99.7647C862.25,-90.9971 868.3466,-81.678 874.124,-72.8469\"/>\n",
       "<polygon fill=\"#000000\" stroke=\"#000000\" points=\"877.224,-74.5013 879.7697,-64.2169 871.3662,-70.6691 877.224,-74.5013\"/>\n",
       "</g>\n",
       "<!-- 39 -->\n",
       "<g id=\"node30\" class=\"node\">\n",
       "<title>39</title>\n",
       "<path fill=\"#8139e5\" fill-opacity=\"0.333333\" stroke=\"#000000\" d=\"M1090.4458,-285C1090.4458,-285 995.2465,-285 995.2465,-285 989.2465,-285 983.2465,-279 983.2465,-273 983.2465,-273 983.2465,-233 983.2465,-233 983.2465,-227 989.2465,-221 995.2465,-221 995.2465,-221 1090.4458,-221 1090.4458,-221 1096.4458,-221 1102.4458,-227 1102.4458,-233 1102.4458,-233 1102.4458,-273 1102.4458,-273 1102.4458,-279 1096.4458,-285 1090.4458,-285\"/>\n",
       "<text text-anchor=\"start\" x=\"994.0034\" y=\"-269.8\" font-family=\"Helvetica,sans-Serif\" font-size=\"14.00\" fill=\"#000000\">entropy = 0.971</text>\n",
       "<text text-anchor=\"start\" x=\"1004.9102\" y=\"-255.8\" font-family=\"Helvetica,sans-Serif\" font-size=\"14.00\" fill=\"#000000\">samples = 5</text>\n",
       "<text text-anchor=\"start\" x=\"994.7861\" y=\"-241.8\" font-family=\"Helvetica,sans-Serif\" font-size=\"14.00\" fill=\"#000000\">value = [0, 2, 3]</text>\n",
       "<text text-anchor=\"start\" x=\"991.2964\" y=\"-227.8\" font-family=\"Helvetica,sans-Serif\" font-size=\"14.00\" fill=\"#000000\">class = SoldFast</text>\n",
       "</g>\n",
       "<!-- 10&#45;&gt;39 -->\n",
       "<g id=\"edge29\" class=\"edge\">\n",
       "<title>10&#45;&gt;39</title>\n",
       "<path fill=\"none\" stroke=\"#000000\" d=\"M1042.8462,-327.7677C1042.8462,-317.3338 1042.8462,-306.0174 1042.8462,-295.4215\"/>\n",
       "<polygon fill=\"#000000\" stroke=\"#000000\" points=\"1046.3463,-295.1252 1042.8462,-285.1252 1039.3463,-295.1252 1046.3463,-295.1252\"/>\n",
       "</g>\n",
       "<!-- 40 -->\n",
       "<g id=\"node31\" class=\"node\">\n",
       "<title>40</title>\n",
       "<path fill=\"#8139e5\" stroke=\"#000000\" d=\"M1228.7525,-285C1228.7525,-285 1132.9399,-285 1132.9399,-285 1126.9399,-285 1120.9399,-279 1120.9399,-273 1120.9399,-273 1120.9399,-233 1120.9399,-233 1120.9399,-227 1126.9399,-221 1132.9399,-221 1132.9399,-221 1228.7525,-221 1228.7525,-221 1234.7525,-221 1240.7525,-227 1240.7525,-233 1240.7525,-233 1240.7525,-273 1240.7525,-273 1240.7525,-279 1234.7525,-285 1228.7525,-285\"/>\n",
       "<text text-anchor=\"start\" x=\"1139.7896\" y=\"-269.8\" font-family=\"Helvetica,sans-Serif\" font-size=\"14.00\" fill=\"#000000\">entropy = 0.0</text>\n",
       "<text text-anchor=\"start\" x=\"1139.0171\" y=\"-255.8\" font-family=\"Helvetica,sans-Serif\" font-size=\"14.00\" fill=\"#000000\">samples = 15</text>\n",
       "<text text-anchor=\"start\" x=\"1128.8931\" y=\"-241.8\" font-family=\"Helvetica,sans-Serif\" font-size=\"14.00\" fill=\"#000000\">value = [0, 0, 15]</text>\n",
       "<text text-anchor=\"start\" x=\"1129.2964\" y=\"-227.8\" font-family=\"Helvetica,sans-Serif\" font-size=\"14.00\" fill=\"#000000\">class = SoldFast</text>\n",
       "</g>\n",
       "<!-- 10&#45;&gt;40 -->\n",
       "<g id=\"edge30\" class=\"edge\">\n",
       "<title>10&#45;&gt;40</title>\n",
       "<path fill=\"none\" stroke=\"#000000\" d=\"M1090.338,-327.7677C1104.4157,-316.1383 1119.8205,-303.4125 1133.8657,-291.81\"/>\n",
       "<polygon fill=\"#000000\" stroke=\"#000000\" points=\"1136.4773,-294.1924 1141.9578,-285.1252 1132.0191,-288.7957 1136.4773,-294.1924\"/>\n",
       "</g>\n",
       "<!-- 13 -->\n",
       "<g id=\"node34\" class=\"node\">\n",
       "<title>13</title>\n",
       "<path fill=\"#8139e5\" fill-opacity=\"0.972549\" stroke=\"#000000\" d=\"M961.7525,-627C961.7525,-627 865.9399,-627 865.9399,-627 859.9399,-627 853.9399,-621 853.9399,-615 853.9399,-615 853.9399,-575 853.9399,-575 853.9399,-569 859.9399,-563 865.9399,-563 865.9399,-563 961.7525,-563 961.7525,-563 967.7525,-563 973.7525,-569 973.7525,-575 973.7525,-575 973.7525,-615 973.7525,-615 973.7525,-621 967.7525,-627 961.7525,-627\"/>\n",
       "<text text-anchor=\"start\" x=\"865.0034\" y=\"-611.8\" font-family=\"Helvetica,sans-Serif\" font-size=\"14.00\" fill=\"#000000\">entropy = 0.169</text>\n",
       "<text text-anchor=\"start\" x=\"872.0171\" y=\"-597.8\" font-family=\"Helvetica,sans-Serif\" font-size=\"14.00\" fill=\"#000000\">samples = 40</text>\n",
       "<text text-anchor=\"start\" x=\"861.8931\" y=\"-583.8\" font-family=\"Helvetica,sans-Serif\" font-size=\"14.00\" fill=\"#000000\">value = [0, 1, 39]</text>\n",
       "<text text-anchor=\"start\" x=\"862.2964\" y=\"-569.8\" font-family=\"Helvetica,sans-Serif\" font-size=\"14.00\" fill=\"#000000\">class = SoldFast</text>\n",
       "</g>\n",
       "<!-- 4&#45;&gt;13 -->\n",
       "<g id=\"edge33\" class=\"edge\">\n",
       "<title>4&#45;&gt;13</title>\n",
       "<path fill=\"none\" stroke=\"#000000\" d=\"M913.8462,-669.7677C913.8462,-659.3338 913.8462,-648.0174 913.8462,-637.4215\"/>\n",
       "<polygon fill=\"#000000\" stroke=\"#000000\" points=\"917.3463,-637.1252 913.8462,-627.1252 910.3463,-637.1252 917.3463,-637.1252\"/>\n",
       "</g>\n",
       "<!-- 14 -->\n",
       "<g id=\"node35\" class=\"node\">\n",
       "<title>14</title>\n",
       "<path fill=\"#8139e5\" fill-opacity=\"0.070588\" stroke=\"#000000\" d=\"M1107.5389,-634C1107.5389,-634 1004.1534,-634 1004.1534,-634 998.1534,-634 992.1534,-628 992.1534,-622 992.1534,-622 992.1534,-568 992.1534,-568 992.1534,-562 998.1534,-556 1004.1534,-556 1004.1534,-556 1107.5389,-556 1107.5389,-556 1113.5389,-556 1119.5389,-562 1119.5389,-568 1119.5389,-568 1119.5389,-622 1119.5389,-622 1119.5389,-628 1113.5389,-634 1107.5389,-634\"/>\n",
       "<text text-anchor=\"start\" x=\"1022.0356\" y=\"-619.8\" font-family=\"Helvetica,sans-Serif\" font-size=\"14.00\" fill=\"#000000\">X</text>\n",
       "<text text-anchor=\"start\" x=\"1031.3735\" y=\"-619.8\" font-family=\"Helvetica,sans-Serif\" baseline-shift=\"sub\" font-size=\"14.00\" fill=\"#000000\">9</text>\n",
       "<text text-anchor=\"start\" x=\"1039.1597\" y=\"-619.8\" font-family=\"Helvetica,sans-Serif\" font-size=\"14.00\" fill=\"#000000\"> ≤ 1.896</text>\n",
       "<text text-anchor=\"start\" x=\"1007.0034\" y=\"-605.8\" font-family=\"Helvetica,sans-Serif\" font-size=\"14.00\" fill=\"#000000\">entropy = 0.999</text>\n",
       "<text text-anchor=\"start\" x=\"1014.0171\" y=\"-591.8\" font-family=\"Helvetica,sans-Serif\" font-size=\"14.00\" fill=\"#000000\">samples = 54</text>\n",
       "<text text-anchor=\"start\" x=\"1000\" y=\"-577.8\" font-family=\"Helvetica,sans-Serif\" font-size=\"14.00\" fill=\"#000000\">value = [0, 26, 28]</text>\n",
       "<text text-anchor=\"start\" x=\"1004.2964\" y=\"-563.8\" font-family=\"Helvetica,sans-Serif\" font-size=\"14.00\" fill=\"#000000\">class = SoldFast</text>\n",
       "</g>\n",
       "<!-- 4&#45;&gt;14 -->\n",
       "<g id=\"edge34\" class=\"edge\">\n",
       "<title>4&#45;&gt;14</title>\n",
       "<path fill=\"none\" stroke=\"#000000\" d=\"M962.7145,-669.7677C974.4287,-660.3633 987.036,-650.242 999.0742,-640.5775\"/>\n",
       "<polygon fill=\"#000000\" stroke=\"#000000\" points=\"1001.2809,-643.2943 1006.8878,-634.3046 996.8987,-637.8357 1001.2809,-643.2943\"/>\n",
       "</g>\n",
       "<!-- 15 -->\n",
       "<g id=\"node36\" class=\"node\">\n",
       "<title>15</title>\n",
       "<path fill=\"#39e581\" stroke=\"#000000\" d=\"M1102.0632,-513C1102.0632,-513 1003.6292,-513 1003.6292,-513 997.6292,-513 991.6292,-507 991.6292,-501 991.6292,-501 991.6292,-461 991.6292,-461 991.6292,-455 997.6292,-449 1003.6292,-449 1003.6292,-449 1102.0632,-449 1102.0632,-449 1108.0632,-449 1114.0632,-455 1114.0632,-461 1114.0632,-461 1114.0632,-501 1114.0632,-501 1114.0632,-507 1108.0632,-513 1102.0632,-513\"/>\n",
       "<text text-anchor=\"start\" x=\"1011.7896\" y=\"-497.8\" font-family=\"Helvetica,sans-Serif\" font-size=\"14.00\" fill=\"#000000\">entropy = 0.0</text>\n",
       "<text text-anchor=\"start\" x=\"1011.0171\" y=\"-483.8\" font-family=\"Helvetica,sans-Serif\" font-size=\"14.00\" fill=\"#000000\">samples = 21</text>\n",
       "<text text-anchor=\"start\" x=\"1000.8931\" y=\"-469.8\" font-family=\"Helvetica,sans-Serif\" font-size=\"14.00\" fill=\"#000000\">value = [0, 21, 0]</text>\n",
       "<text text-anchor=\"start\" x=\"999.7378\" y=\"-455.8\" font-family=\"Helvetica,sans-Serif\" font-size=\"14.00\" fill=\"#000000\">class = SoldSlow</text>\n",
       "</g>\n",
       "<!-- 14&#45;&gt;15 -->\n",
       "<g id=\"edge35\" class=\"edge\">\n",
       "<title>14&#45;&gt;15</title>\n",
       "<path fill=\"none\" stroke=\"#000000\" d=\"M1054.8138,-555.7677C1054.5392,-545.3338 1054.2414,-534.0174 1053.9625,-523.4215\"/>\n",
       "<polygon fill=\"#000000\" stroke=\"#000000\" points=\"1057.4535,-523.0296 1053.6916,-513.1252 1050.456,-523.2138 1057.4535,-523.0296\"/>\n",
       "</g>\n",
       "<!-- 16 -->\n",
       "<g id=\"node37\" class=\"node\">\n",
       "<title>16</title>\n",
       "<path fill=\"#8139e5\" fill-opacity=\"0.819608\" stroke=\"#000000\" d=\"M1239.7525,-520C1239.7525,-520 1143.9399,-520 1143.9399,-520 1137.9399,-520 1131.9399,-514 1131.9399,-508 1131.9399,-508 1131.9399,-454 1131.9399,-454 1131.9399,-448 1137.9399,-442 1143.9399,-442 1143.9399,-442 1239.7525,-442 1239.7525,-442 1245.7525,-442 1251.7525,-448 1251.7525,-454 1251.7525,-454 1251.7525,-508 1251.7525,-508 1251.7525,-514 1245.7525,-520 1239.7525,-520\"/>\n",
       "<text text-anchor=\"start\" x=\"1158.0356\" y=\"-505.8\" font-family=\"Helvetica,sans-Serif\" font-size=\"14.00\" fill=\"#000000\">X</text>\n",
       "<text text-anchor=\"start\" x=\"1167.3735\" y=\"-505.8\" font-family=\"Helvetica,sans-Serif\" baseline-shift=\"sub\" font-size=\"14.00\" fill=\"#000000\">1</text>\n",
       "<text text-anchor=\"start\" x=\"1175.1597\" y=\"-505.8\" font-family=\"Helvetica,sans-Serif\" font-size=\"14.00\" fill=\"#000000\"> ≤ 1.736</text>\n",
       "<text text-anchor=\"start\" x=\"1143.0034\" y=\"-491.8\" font-family=\"Helvetica,sans-Serif\" font-size=\"14.00\" fill=\"#000000\">entropy = 0.614</text>\n",
       "<text text-anchor=\"start\" x=\"1150.0171\" y=\"-477.8\" font-family=\"Helvetica,sans-Serif\" font-size=\"14.00\" fill=\"#000000\">samples = 33</text>\n",
       "<text text-anchor=\"start\" x=\"1139.8931\" y=\"-463.8\" font-family=\"Helvetica,sans-Serif\" font-size=\"14.00\" fill=\"#000000\">value = [0, 5, 28]</text>\n",
       "<text text-anchor=\"start\" x=\"1140.2964\" y=\"-449.8\" font-family=\"Helvetica,sans-Serif\" font-size=\"14.00\" fill=\"#000000\">class = SoldFast</text>\n",
       "</g>\n",
       "<!-- 14&#45;&gt;16 -->\n",
       "<g id=\"edge36\" class=\"edge\">\n",
       "<title>14&#45;&gt;16</title>\n",
       "<path fill=\"none\" stroke=\"#000000\" d=\"M1102.6497,-555.7677C1113.7621,-546.4529 1125.7136,-536.4347 1137.1435,-526.8538\"/>\n",
       "<polygon fill=\"#000000\" stroke=\"#000000\" points=\"1139.5411,-529.411 1144.9564,-520.3046 1135.0443,-524.0464 1139.5411,-529.411\"/>\n",
       "</g>\n",
       "<!-- 29 -->\n",
       "<g id=\"node38\" class=\"node\">\n",
       "<title>29</title>\n",
       "<path fill=\"#8139e5\" stroke=\"#000000\" d=\"M1237.7525,-399C1237.7525,-399 1141.9399,-399 1141.9399,-399 1135.9399,-399 1129.9399,-393 1129.9399,-387 1129.9399,-387 1129.9399,-347 1129.9399,-347 1129.9399,-341 1135.9399,-335 1141.9399,-335 1141.9399,-335 1237.7525,-335 1237.7525,-335 1243.7525,-335 1249.7525,-341 1249.7525,-347 1249.7525,-347 1249.7525,-387 1249.7525,-387 1249.7525,-393 1243.7525,-399 1237.7525,-399\"/>\n",
       "<text text-anchor=\"start\" x=\"1148.7896\" y=\"-383.8\" font-family=\"Helvetica,sans-Serif\" font-size=\"14.00\" fill=\"#000000\">entropy = 0.0</text>\n",
       "<text text-anchor=\"start\" x=\"1148.0171\" y=\"-369.8\" font-family=\"Helvetica,sans-Serif\" font-size=\"14.00\" fill=\"#000000\">samples = 19</text>\n",
       "<text text-anchor=\"start\" x=\"1137.8931\" y=\"-355.8\" font-family=\"Helvetica,sans-Serif\" font-size=\"14.00\" fill=\"#000000\">value = [0, 0, 19]</text>\n",
       "<text text-anchor=\"start\" x=\"1138.2964\" y=\"-341.8\" font-family=\"Helvetica,sans-Serif\" font-size=\"14.00\" fill=\"#000000\">class = SoldFast</text>\n",
       "</g>\n",
       "<!-- 16&#45;&gt;29 -->\n",
       "<g id=\"edge37\" class=\"edge\">\n",
       "<title>16&#45;&gt;29</title>\n",
       "<path fill=\"none\" stroke=\"#000000\" d=\"M1191.1579,-441.7677C1190.9749,-431.3338 1190.7763,-420.0174 1190.5904,-409.4215\"/>\n",
       "<polygon fill=\"#000000\" stroke=\"#000000\" points=\"1194.0848,-409.0622 1190.4098,-399.1252 1187.0858,-409.1851 1194.0848,-409.0622\"/>\n",
       "</g>\n",
       "<!-- 30 -->\n",
       "<g id=\"node39\" class=\"node\">\n",
       "<title>30</title>\n",
       "<path fill=\"#8139e5\" fill-opacity=\"0.443137\" stroke=\"#000000\" d=\"M1375.4458,-406C1375.4458,-406 1280.2465,-406 1280.2465,-406 1274.2465,-406 1268.2465,-400 1268.2465,-394 1268.2465,-394 1268.2465,-340 1268.2465,-340 1268.2465,-334 1274.2465,-328 1280.2465,-328 1280.2465,-328 1375.4458,-328 1375.4458,-328 1381.4458,-328 1387.4458,-334 1387.4458,-340 1387.4458,-340 1387.4458,-394 1387.4458,-394 1387.4458,-400 1381.4458,-406 1375.4458,-406\"/>\n",
       "<text text-anchor=\"start\" x=\"1294.0356\" y=\"-391.8\" font-family=\"Helvetica,sans-Serif\" font-size=\"14.00\" fill=\"#000000\">X</text>\n",
       "<text text-anchor=\"start\" x=\"1303.3735\" y=\"-391.8\" font-family=\"Helvetica,sans-Serif\" baseline-shift=\"sub\" font-size=\"14.00\" fill=\"#000000\">9</text>\n",
       "<text text-anchor=\"start\" x=\"1311.1597\" y=\"-391.8\" font-family=\"Helvetica,sans-Serif\" font-size=\"14.00\" fill=\"#000000\"> ≤ 2.442</text>\n",
       "<text text-anchor=\"start\" x=\"1282.8965\" y=\"-377.8\" font-family=\"Helvetica,sans-Serif\" font-size=\"14.00\" fill=\"#000000\">entropy = 0.94</text>\n",
       "<text text-anchor=\"start\" x=\"1286.0171\" y=\"-363.8\" font-family=\"Helvetica,sans-Serif\" font-size=\"14.00\" fill=\"#000000\">samples = 14</text>\n",
       "<text text-anchor=\"start\" x=\"1279.7861\" y=\"-349.8\" font-family=\"Helvetica,sans-Serif\" font-size=\"14.00\" fill=\"#000000\">value = [0, 5, 9]</text>\n",
       "<text text-anchor=\"start\" x=\"1276.2964\" y=\"-335.8\" font-family=\"Helvetica,sans-Serif\" font-size=\"14.00\" fill=\"#000000\">class = SoldFast</text>\n",
       "</g>\n",
       "<!-- 16&#45;&gt;30 -->\n",
       "<g id=\"edge38\" class=\"edge\">\n",
       "<title>16&#45;&gt;30</title>\n",
       "<path fill=\"none\" stroke=\"#000000\" d=\"M1238.6497,-441.7677C1249.7621,-432.4529 1261.7136,-422.4347 1273.1435,-412.8538\"/>\n",
       "<polygon fill=\"#000000\" stroke=\"#000000\" points=\"1275.5411,-415.411 1280.9564,-406.3046 1271.0443,-410.0464 1275.5411,-415.411\"/>\n",
       "</g>\n",
       "<!-- 31 -->\n",
       "<g id=\"node40\" class=\"node\">\n",
       "<title>31</title>\n",
       "<path fill=\"#39e581\" fill-opacity=\"0.600000\" stroke=\"#000000\" d=\"M1375.0632,-285C1375.0632,-285 1276.6292,-285 1276.6292,-285 1270.6292,-285 1264.6292,-279 1264.6292,-273 1264.6292,-273 1264.6292,-233 1264.6292,-233 1264.6292,-227 1270.6292,-221 1276.6292,-221 1276.6292,-221 1375.0632,-221 1375.0632,-221 1381.0632,-221 1387.0632,-227 1387.0632,-233 1387.0632,-233 1387.0632,-273 1387.0632,-273 1387.0632,-279 1381.0632,-285 1375.0632,-285\"/>\n",
       "<text text-anchor=\"start\" x=\"1277.0034\" y=\"-269.8\" font-family=\"Helvetica,sans-Serif\" font-size=\"14.00\" fill=\"#000000\">entropy = 0.863</text>\n",
       "<text text-anchor=\"start\" x=\"1287.9102\" y=\"-255.8\" font-family=\"Helvetica,sans-Serif\" font-size=\"14.00\" fill=\"#000000\">samples = 7</text>\n",
       "<text text-anchor=\"start\" x=\"1277.7861\" y=\"-241.8\" font-family=\"Helvetica,sans-Serif\" font-size=\"14.00\" fill=\"#000000\">value = [0, 5, 2]</text>\n",
       "<text text-anchor=\"start\" x=\"1272.7378\" y=\"-227.8\" font-family=\"Helvetica,sans-Serif\" font-size=\"14.00\" fill=\"#000000\">class = SoldSlow</text>\n",
       "</g>\n",
       "<!-- 30&#45;&gt;31 -->\n",
       "<g id=\"edge39\" class=\"edge\">\n",
       "<title>30&#45;&gt;31</title>\n",
       "<path fill=\"none\" stroke=\"#000000\" d=\"M1327.1579,-327.7677C1326.9749,-317.3338 1326.7763,-306.0174 1326.5904,-295.4215\"/>\n",
       "<polygon fill=\"#000000\" stroke=\"#000000\" points=\"1330.0848,-295.0622 1326.4098,-285.1252 1323.0858,-295.1851 1330.0848,-295.0622\"/>\n",
       "</g>\n",
       "<!-- 32 -->\n",
       "<g id=\"node41\" class=\"node\">\n",
       "<title>32</title>\n",
       "<path fill=\"#8139e5\" stroke=\"#000000\" d=\"M1512.4458,-285C1512.4458,-285 1417.2465,-285 1417.2465,-285 1411.2465,-285 1405.2465,-279 1405.2465,-273 1405.2465,-273 1405.2465,-233 1405.2465,-233 1405.2465,-227 1411.2465,-221 1417.2465,-221 1417.2465,-221 1512.4458,-221 1512.4458,-221 1518.4458,-221 1524.4458,-227 1524.4458,-233 1524.4458,-233 1524.4458,-273 1524.4458,-273 1524.4458,-279 1518.4458,-285 1512.4458,-285\"/>\n",
       "<text text-anchor=\"start\" x=\"1423.7896\" y=\"-269.8\" font-family=\"Helvetica,sans-Serif\" font-size=\"14.00\" fill=\"#000000\">entropy = 0.0</text>\n",
       "<text text-anchor=\"start\" x=\"1426.9102\" y=\"-255.8\" font-family=\"Helvetica,sans-Serif\" font-size=\"14.00\" fill=\"#000000\">samples = 7</text>\n",
       "<text text-anchor=\"start\" x=\"1416.7861\" y=\"-241.8\" font-family=\"Helvetica,sans-Serif\" font-size=\"14.00\" fill=\"#000000\">value = [0, 0, 7]</text>\n",
       "<text text-anchor=\"start\" x=\"1413.2964\" y=\"-227.8\" font-family=\"Helvetica,sans-Serif\" font-size=\"14.00\" fill=\"#000000\">class = SoldFast</text>\n",
       "</g>\n",
       "<!-- 30&#45;&gt;32 -->\n",
       "<g id=\"edge40\" class=\"edge\">\n",
       "<title>30&#45;&gt;32</title>\n",
       "<path fill=\"none\" stroke=\"#000000\" d=\"M1374.9938,-327.7677C1388.9695,-316.1383 1404.2628,-303.4125 1418.2061,-291.81\"/>\n",
       "<polygon fill=\"#000000\" stroke=\"#000000\" points=\"1420.7915,-294.2119 1426.2396,-285.1252 1416.314,-288.8312 1420.7915,-294.2119\"/>\n",
       "</g>\n",
       "</g>\n",
       "</svg>\n"
      ],
      "text/plain": [
       "<graphviz.files.Source at 0x1148c50f0>"
      ]
     },
     "execution_count": 21,
     "metadata": {},
     "output_type": "execute_result"
    }
   ],
   "source": [
    "# TREE VISUALIZER\n",
    "from sklearn.tree import export_graphviz\n",
    "import graphviz\n",
    "\n",
    "dot_data = export_graphviz(dtree, out_file=None,   \n",
    "                         class_names=class_names,  \n",
    "                         filled=True, rounded=True,  \n",
    "                         special_characters=True)  \n",
    "graph = graphviz.Source(dot_data)  \n",
    "graph"
   ]
  },
  {
   "cell_type": "code",
   "execution_count": 22,
   "metadata": {
    "collapsed": false
   },
   "outputs": [
    {
     "name": "stdout",
     "output_type": "stream",
     "text": [
      "Confusion Matrix\n",
      "[[  0   3   1]\n",
      " [  0 127   2]\n",
      " [  0   2 157]]\n"
     ]
    },
    {
     "data": {
      "image/png": "[encoded data removed]",
      "text/plain": [
       "<matplotlib.figure.Figure at 0x114878908>"
      ]
     },
     "metadata": {},
     "output_type": "display_data"
    }
   ],
   "source": [
    "# CONFUSION MATRIX\n",
    "\n",
    "cnf_matrix = confusion_matrix(Y_test, Y_pred_dtree)\n",
    "np.set_printoptions(precision=2)\n",
    "\n",
    "plt.figure()\n",
    "plot_confusion_matrix(cnf_matrix, classes=class_names,\n",
    "                      title='Confusion Matrix')\n",
    "plt.show()"
   ]
  },
  {
   "cell_type": "code",
   "execution_count": 23,
   "metadata": {
    "collapsed": false
   },
   "outputs": [
    {
     "data": {
      "text/plain": [
       "['decision_tree.pkl']"
      ]
     },
     "execution_count": 23,
     "metadata": {},
     "output_type": "execute_result"
    }
   ],
   "source": [
    "# EXPORTING MODEL.PKL\n",
    "\n",
    "joblib.dump(dtree, 'decision_tree.pkl') "
   ]
  },
  {
   "cell_type": "markdown",
   "metadata": {},
   "source": [
    "###### Final Accuracy of Decision Tree Classifier: 97.26%"
   ]
  },
  {
   "cell_type": "markdown",
   "metadata": {},
   "source": [
    "\n"
   ]
  },
  {
   "cell_type": "markdown",
   "metadata": {},
   "source": [
    "##### RANDOM FOREST CLASSIFIER\n",
    "A meta estimator that fits a number of decision tree classifiers on various sub-samples of the dataset, and uses averaging to improve the predictive accuracy and control over-fitting.\n",
    "- n_estimators : number of trees in the forest\n",
    "- criterion : Gini Impurity(\"gini\") or Information Gain(\"entropy\")\n",
    "- min_samples_split : minimum number of samples required to split an internal node\n",
    "- max_depth : maximum depth of the tree\n",
    "- min_samples_leaf : minimum number of samples required to be at a leaf node\n",
    "- max_leaf_nodes : constraint of maximum leaf nodes for the tree to grow in best-first fashion"
   ]
  },
  {
   "cell_type": "code",
   "execution_count": 24,
   "metadata": {
    "collapsed": false
   },
   "outputs": [
    {
     "data": {
      "image/png": "[encoded data removed]",
      "text/plain": [
       "<matplotlib.figure.Figure at 0x117227f98>"
      ]
     },
     "metadata": {},
     "output_type": "display_data"
    },
    {
     "name": "stdout",
     "output_type": "stream",
     "text": [
      "Tuned Value:  {'n_estimators': 80}\n"
     ]
    },
    {
     "data": {
      "image/png": "[encoded data removed]",
      "text/plain": [
       "<matplotlib.figure.Figure at 0x114b74d68>"
      ]
     },
     "metadata": {},
     "output_type": "display_data"
    },
    {
     "name": "stdout",
     "output_type": "stream",
     "text": [
      "Tuned Value:  {'min_samples_split': 32}\n"
     ]
    },
    {
     "data": {
      "image/png": "[encoded data removed]",
      "text/plain": [
       "<matplotlib.figure.Figure at 0x117249240>"
      ]
     },
     "metadata": {},
     "output_type": "display_data"
    },
    {
     "name": "stdout",
     "output_type": "stream",
     "text": [
      "Tuned Value:  {'max_depth': 11}\n"
     ]
    },
    {
     "data": {
      "image/png": "[encoded data removed]",
      "text/plain": [
       "<matplotlib.figure.Figure at 0x114878cf8>"
      ]
     },
     "metadata": {},
     "output_type": "display_data"
    },
    {
     "name": "stdout",
     "output_type": "stream",
     "text": [
      "Tuned Value:  {'min_samples_leaf': 10}\n"
     ]
    },
    {
     "data": {
      "image/png": "[encoded data removed]",
      "text/plain": [
       "<matplotlib.figure.Figure at 0x11711a320>"
      ]
     },
     "metadata": {},
     "output_type": "display_data"
    },
    {
     "name": "stdout",
     "output_type": "stream",
     "text": [
      "Tuned Value:  {'max_leaf_nodes': 48}\n"
     ]
    },
    {
     "data": {
      "text/plain": [
       "''"
      ]
     },
     "execution_count": 24,
     "metadata": {},
     "output_type": "execute_result"
    }
   ],
   "source": [
    "# RANDOM FOREST\n",
    "fold = KFold(len(Y_train), n_folds=5, shuffle=True, random_state=5)\n",
    "grid = {\"n_estimators\": np.arange(10, 300, 5), \n",
    "        \"min_samples_split\": np.arange(10, 100, 2),\n",
    "        \"max_depth\": np.arange(8, 15, 1),\n",
    "        \"min_samples_leaf\": np.arange(7, 35, 1),\n",
    "        \"max_leaf_nodes\": np.arange(15, 60, 3)}\n",
    "rf = RandomForestClassifier(criterion=\"entropy\", random_state=8) # raw model\n",
    "\n",
    "# visualizing the hyperparameters one at a time against the mean CV accuracy\n",
    "index = 1\n",
    "for parameter, param_range in dict.items(grid): \n",
    "    tuning_cv_plot(rf, parameter, param_range, index) # plotting-function\n",
    "    index += 1\n",
    ";"
   ]
  },
  {
   "cell_type": "markdown",
   "metadata": {},
   "source": [
    "###### Plot insights: \n",
    "- n_estimators: initially increasing, then oscillating\n",
    "- min_samples_split : generally decreasing with oscillations\n",
    "- max_depth : oscillating\n",
    "- min_samples_leaf : haphazard, but overall deeacrasing\n",
    "- max_leaf_nodes : increasing, then becomes nearly constant with some oscillations"
   ]
  },
  {
   "cell_type": "code",
   "execution_count": 25,
   "metadata": {
    "collapsed": false
   },
   "outputs": [
    {
     "data": {
      "text/plain": [
       "array([ 0.91,  0.89,  0.9 ,  0.92,  0.88])"
      ]
     },
     "execution_count": 25,
     "metadata": {},
     "output_type": "execute_result"
    }
   ],
   "source": [
    "fold = KFold(len(Y_train), n_folds=5, shuffle=True, random_state=5) # 5 folds\n",
    "rf = RandomForestClassifier(random_state=8, criterion=\"entropy\", \n",
    "                            n_estimators=80, min_samples_split=32, \n",
    "                            max_depth=11, min_samples_leaf=10, \n",
    "                            max_leaf_nodes=48)\n",
    "rf.fit(X_train, Y_train)\n",
    "scores_rf = cross_val_score(rf, X_train, Y_train, cv=fold)\n",
    "scores_rf"
   ]
  },
  {
   "cell_type": "code",
   "execution_count": 26,
   "metadata": {
    "collapsed": false,
    "scrolled": true
   },
   "outputs": [
    {
     "name": "stdout",
     "output_type": "stream",
     "text": [
      "Mean CV Training Accuracy:  0.902399031584\n",
      "Testing Accuracy: 0.931506849315\n"
     ]
    }
   ],
   "source": [
    "# MODEL ACCURACY \n",
    "\n",
    "print ('Mean CV Training Accuracy: ', scores_rf.mean())\n",
    "Y_pred_rf = rf.predict(X_test) # Predicted Y corresponding to X_test\n",
    "print ('Testing Accuracy:', rf.score(X_test, Y_test))"
   ]
  },
  {
   "cell_type": "code",
   "execution_count": 27,
   "metadata": {
    "collapsed": false,
    "scrolled": false
   },
   "outputs": [
    {
     "name": "stdout",
     "output_type": "stream",
     "text": [
      "Confusion Matrix\n",
      "[[  0   3   1]\n",
      " [  0 123   6]\n",
      " [  0  10 149]]\n"
     ]
    },
    {
     "data": {
      "image/png": "[encoded data removed]",
      "text/plain": [
       "<matplotlib.figure.Figure at 0x114b702b0>"
      ]
     },
     "metadata": {},
     "output_type": "display_data"
    }
   ],
   "source": [
    "# CONFUSION MATRIX\n",
    "\n",
    "cnf_matrix = confusion_matrix(Y_test, Y_pred_rf)\n",
    "np.set_printoptions(precision=2)\n",
    "\n",
    "plt.figure()\n",
    "plot_confusion_matrix(cnf_matrix, classes=class_names,\n",
    "                      title='Confusion Matrix')"
   ]
  },
  {
   "cell_type": "code",
   "execution_count": 28,
   "metadata": {
    "collapsed": false
   },
   "outputs": [
    {
     "data": {
      "text/plain": [
       "['random_forest.pkl']"
      ]
     },
     "execution_count": 28,
     "metadata": {},
     "output_type": "execute_result"
    }
   ],
   "source": [
    "# EXPORTING MODEL.PKL\n",
    "joblib.dump(rf, 'random_forest.pkl') "
   ]
  },
  {
   "cell_type": "markdown",
   "metadata": {},
   "source": [
    "###### Final Accuracy of K Nearest Neighbors: 93.15%"
   ]
  },
  {
   "cell_type": "markdown",
   "metadata": {},
   "source": [
    "\n"
   ]
  },
  {
   "cell_type": "markdown",
   "metadata": {},
   "source": [
    "##### Conclusions\n",
    "- Most Accurate Model: Decision Tree Classifier\n",
    "- Least Accurate Model: Nearest Neighbors\n",
    "- Random Forest tuning seems quite arbitrary as most of the validation curves are quite oscilating in nature, and its difficult to tune it very finely.\n",
    "- Unlike random forest classifier, it was simpler to tune the decision tree classifier to a good accuracy, as it's validation plots are not so oscillatory.\n",
    "- All the confusion matrix plots show that 'NotSold' labels are always misclassified for any model, reason being there are too few datapoints(9 out of 1460) with 'NotSold' labels making the model almost impossible to learn to predict the 'NotSold' label correctly.\n",
    "- The plots of the hyperparameter tuning can be observed in the previous sections"
   ]
  },
  {
   "cell_type": "markdown",
   "metadata": {},
   "source": [
    "##### References\n",
    "- scikit learn documentation\n"
   ]
  },
  {
   "cell_type": "markdown",
   "metadata": {},
   "source": [
    "##### Bonus Model: DECISION TREE CLASSIFIER\n",
    "- Accuracy ~ 97%\n",
    "- Insightful Tree Visualization provided"
   ]
  }
 ],
 "metadata": {
  "kernelspec": {
   "display_name": "Python 3",
   "language": "python",
   "name": "python3"
  },
  "language_info": {
   "codemirror_mode": {
    "name": "ipython",
    "version": 3
   },
   "file_extension": ".py",
   "mimetype": "text/x-python",
   "name": "python",
   "nbconvert_exporter": "python",
   "pygments_lexer": "ipython3",
   "version": "3.6.0"
  }
 },
 "nbformat": 4,
 "nbformat_minor": 2
}
